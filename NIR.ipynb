{
  "nbformat": 4,
  "nbformat_minor": 0,
  "metadata": {
    "colab": {
      "name": "NIR",
      "provenance": [],
      "mount_file_id": "1kGnBQcjkPcjwwfP2zL_u7-NtJhvYUmHc",
      "authorship_tag": "ABX9TyN13RpK3BrRiAZs7HkPR8jd",
      "include_colab_link": true
    },
    "kernelspec": {
      "name": "python3",
      "display_name": "Python 3"
    },
    "language_info": {
      "name": "python"
    },
    "accelerator": "GPU"
  },
  "cells": [
    {
      "cell_type": "markdown",
      "metadata": {
        "id": "view-in-github",
        "colab_type": "text"
      },
      "source": [
        "<a href=\"https://colab.research.google.com/github/IvanKoykov/-CV/blob/main/NIR.ipynb\" target=\"_parent\"><img src=\"https://colab.research.google.com/assets/colab-badge.svg\" alt=\"Open In Colab\"/></a>"
      ]
    },
    {
      "cell_type": "code",
      "metadata": {
        "colab": {
          "base_uri": "https://localhost:8080/"
        },
        "id": "WS1CZ-tEedab",
        "outputId": "c74086b0-0d31-4a35-b9a5-0e2709973725"
      },
      "source": [
        "!pip install SimpleITK\n",
        "!pip install rarfile"
      ],
      "execution_count": null,
      "outputs": [
        {
          "output_type": "stream",
          "name": "stdout",
          "text": [
            "Collecting SimpleITK\n",
            "  Downloading SimpleITK-2.1.1-cp37-cp37m-manylinux_2_12_x86_64.manylinux2010_x86_64.whl (48.4 MB)\n",
            "\u001b[K     |████████████████████████████████| 48.4 MB 1.3 MB/s \n",
            "\u001b[?25hInstalling collected packages: SimpleITK\n",
            "Successfully installed SimpleITK-2.1.1\n",
            "Collecting rarfile\n",
            "  Downloading rarfile-4.0-py3-none-any.whl (28 kB)\n",
            "Installing collected packages: rarfile\n",
            "Successfully installed rarfile-4.0\n"
          ]
        }
      ]
    },
    {
      "cell_type": "code",
      "source": [
        "!ls "
      ],
      "metadata": {
        "colab": {
          "base_uri": "https://localhost:8080/"
        },
        "id": "vyRT56TDjL_V",
        "outputId": "e25ad611-d3c9-47ca-9a55-8b8129eef564"
      },
      "execution_count": null,
      "outputs": [
        {
          "output_type": "stream",
          "name": "stdout",
          "text": [
            "drive  MICCAI_BraTS2020_TrainingData  sample_data\n"
          ]
        }
      ]
    },
    {
      "cell_type": "code",
      "source": [
        "%rm -rf MICCAI_BraTS2020_TrainingData"
      ],
      "metadata": {
        "id": "pmY_8T2OiMcb"
      },
      "execution_count": null,
      "outputs": []
    },
    {
      "cell_type": "code",
      "metadata": {
        "colab": {
          "base_uri": "https://localhost:8080/"
        },
        "id": "aq7vrLal3tnr",
        "outputId": "cb3b1ed8-0c3a-45f2-a044-853df7e36399"
      },
      "source": [
        "from google.colab import drive\n",
        "drive.mount('/content/drive')"
      ],
      "execution_count": null,
      "outputs": [
        {
          "output_type": "stream",
          "name": "stdout",
          "text": [
            "Drive already mounted at /content/drive; to attempt to forcibly remount, call drive.mount(\"/content/drive\", force_remount=True).\n"
          ]
        }
      ]
    },
    {
      "cell_type": "code",
      "metadata": {
        "id": "YQFkWbklfDvb"
      },
      "source": [
        "import tensorflow as tf\n",
        "import numpy as np\n",
        "import zipfile\n",
        "import rarfile\n",
        "import matplotlib.pyplot as plt\n",
        "import skimage.io as io\n",
        "import skimage.color as color\n",
        "import random as r\n",
        "import os\n",
        "import math\n",
        "import pandas as pd\n",
        "from keras.models import Model\n",
        "from keras.layers import Dense, Dropout, Activation, Flatten\n",
        "from keras.layers import concatenate, Conv2D, MaxPooling2D, Conv2DTranspose\n",
        "from keras.layers import Input, merge, UpSampling2D,BatchNormalization\n",
        "from keras.callbacks import ModelCheckpoint\n",
        "from tensorflow.keras.optimizers import Adam\n",
        "from keras.preprocessing.image import ImageDataGenerator\n",
        "from keras import backend as K"
      ],
      "execution_count": null,
      "outputs": []
    },
    {
      "cell_type": "code",
      "metadata": {
        "id": "96KpIUC8F4OY"
      },
      "source": [
        "zip_file='/content/drive/My Drive/Нир(Сегментация по МРТ)/MICCAI_BraTS_2018_Data_Training.zip'\n",
        "rar_file='/content/drive/My Drive/Нир(Сегментация по МРТ)/MICCAI_BraTS2020_TrainingData.rar'"
      ],
      "execution_count": null,
      "outputs": []
    },
    {
      "cell_type": "code",
      "metadata": {
        "id": "eMCCnzHAGIyp",
        "colab": {
          "base_uri": "https://localhost:8080/",
          "height": 362
        },
        "outputId": "090eecb7-1558-4c45-8f00-128b790fe958"
      },
      "source": [
        "z=zipfile.ZipFile(zip_file, 'r')\n",
        "z.extractall()\n",
        "#rarr=rarfile.RarFile(rar_file, 'r')\n",
        "#rarr.extractall()"
      ],
      "execution_count": null,
      "outputs": [
        {
          "output_type": "error",
          "ename": "KeyboardInterrupt",
          "evalue": "ignored",
          "traceback": [
            "\u001b[0;31m---------------------------------------------------------------------------\u001b[0m",
            "\u001b[0;31mKeyboardInterrupt\u001b[0m                         Traceback (most recent call last)",
            "\u001b[0;32m<ipython-input-22-febf2e037875>\u001b[0m in \u001b[0;36m<module>\u001b[0;34m()\u001b[0m\n\u001b[1;32m      1\u001b[0m \u001b[0mz\u001b[0m\u001b[0;34m=\u001b[0m\u001b[0mzipfile\u001b[0m\u001b[0;34m.\u001b[0m\u001b[0mZipFile\u001b[0m\u001b[0;34m(\u001b[0m\u001b[0mzip_file\u001b[0m\u001b[0;34m,\u001b[0m \u001b[0;34m'r'\u001b[0m\u001b[0;34m)\u001b[0m\u001b[0;34m\u001b[0m\u001b[0;34m\u001b[0m\u001b[0m\n\u001b[0;32m----> 2\u001b[0;31m \u001b[0mz\u001b[0m\u001b[0;34m.\u001b[0m\u001b[0mextractall\u001b[0m\u001b[0;34m(\u001b[0m\u001b[0;34m)\u001b[0m\u001b[0;34m\u001b[0m\u001b[0;34m\u001b[0m\u001b[0m\n\u001b[0m\u001b[1;32m      3\u001b[0m \u001b[0;31m#rarr=rarfile.RarFile(rar_file, 'r')\u001b[0m\u001b[0;34m\u001b[0m\u001b[0;34m\u001b[0m\u001b[0;34m\u001b[0m\u001b[0m\n\u001b[1;32m      4\u001b[0m \u001b[0;31m#rarr.extractall()\u001b[0m\u001b[0;34m\u001b[0m\u001b[0;34m\u001b[0m\u001b[0;34m\u001b[0m\u001b[0m\n",
            "\u001b[0;32m/usr/lib/python3.7/zipfile.py\u001b[0m in \u001b[0;36mextractall\u001b[0;34m(self, path, members, pwd)\u001b[0m\n\u001b[1;32m   1634\u001b[0m \u001b[0;34m\u001b[0m\u001b[0m\n\u001b[1;32m   1635\u001b[0m         \u001b[0;32mfor\u001b[0m \u001b[0mzipinfo\u001b[0m \u001b[0;32min\u001b[0m \u001b[0mmembers\u001b[0m\u001b[0;34m:\u001b[0m\u001b[0;34m\u001b[0m\u001b[0;34m\u001b[0m\u001b[0m\n\u001b[0;32m-> 1636\u001b[0;31m             \u001b[0mself\u001b[0m\u001b[0;34m.\u001b[0m\u001b[0m_extract_member\u001b[0m\u001b[0;34m(\u001b[0m\u001b[0mzipinfo\u001b[0m\u001b[0;34m,\u001b[0m \u001b[0mpath\u001b[0m\u001b[0;34m,\u001b[0m \u001b[0mpwd\u001b[0m\u001b[0;34m)\u001b[0m\u001b[0;34m\u001b[0m\u001b[0;34m\u001b[0m\u001b[0m\n\u001b[0m\u001b[1;32m   1637\u001b[0m \u001b[0;34m\u001b[0m\u001b[0m\n\u001b[1;32m   1638\u001b[0m     \u001b[0;34m@\u001b[0m\u001b[0mclassmethod\u001b[0m\u001b[0;34m\u001b[0m\u001b[0;34m\u001b[0m\u001b[0m\n",
            "\u001b[0;32m/usr/lib/python3.7/zipfile.py\u001b[0m in \u001b[0;36m_extract_member\u001b[0;34m(self, member, targetpath, pwd)\u001b[0m\n\u001b[1;32m   1689\u001b[0m         \u001b[0;32mwith\u001b[0m \u001b[0mself\u001b[0m\u001b[0;34m.\u001b[0m\u001b[0mopen\u001b[0m\u001b[0;34m(\u001b[0m\u001b[0mmember\u001b[0m\u001b[0;34m,\u001b[0m \u001b[0mpwd\u001b[0m\u001b[0;34m=\u001b[0m\u001b[0mpwd\u001b[0m\u001b[0;34m)\u001b[0m \u001b[0;32mas\u001b[0m \u001b[0msource\u001b[0m\u001b[0;34m,\u001b[0m\u001b[0;31m \u001b[0m\u001b[0;31m\\\u001b[0m\u001b[0;34m\u001b[0m\u001b[0;34m\u001b[0m\u001b[0m\n\u001b[1;32m   1690\u001b[0m              \u001b[0mopen\u001b[0m\u001b[0;34m(\u001b[0m\u001b[0mtargetpath\u001b[0m\u001b[0;34m,\u001b[0m \u001b[0;34m\"wb\"\u001b[0m\u001b[0;34m)\u001b[0m \u001b[0;32mas\u001b[0m \u001b[0mtarget\u001b[0m\u001b[0;34m:\u001b[0m\u001b[0;34m\u001b[0m\u001b[0;34m\u001b[0m\u001b[0m\n\u001b[0;32m-> 1691\u001b[0;31m             \u001b[0mshutil\u001b[0m\u001b[0;34m.\u001b[0m\u001b[0mcopyfileobj\u001b[0m\u001b[0;34m(\u001b[0m\u001b[0msource\u001b[0m\u001b[0;34m,\u001b[0m \u001b[0mtarget\u001b[0m\u001b[0;34m)\u001b[0m\u001b[0;34m\u001b[0m\u001b[0;34m\u001b[0m\u001b[0m\n\u001b[0m\u001b[1;32m   1692\u001b[0m \u001b[0;34m\u001b[0m\u001b[0m\n\u001b[1;32m   1693\u001b[0m         \u001b[0;32mreturn\u001b[0m \u001b[0mtargetpath\u001b[0m\u001b[0;34m\u001b[0m\u001b[0;34m\u001b[0m\u001b[0m\n",
            "\u001b[0;32m/usr/lib/python3.7/shutil.py\u001b[0m in \u001b[0;36mcopyfileobj\u001b[0;34m(fsrc, fdst, length)\u001b[0m\n\u001b[1;32m     80\u001b[0m         \u001b[0;32mif\u001b[0m \u001b[0;32mnot\u001b[0m \u001b[0mbuf\u001b[0m\u001b[0;34m:\u001b[0m\u001b[0;34m\u001b[0m\u001b[0;34m\u001b[0m\u001b[0m\n\u001b[1;32m     81\u001b[0m             \u001b[0;32mbreak\u001b[0m\u001b[0;34m\u001b[0m\u001b[0;34m\u001b[0m\u001b[0m\n\u001b[0;32m---> 82\u001b[0;31m         \u001b[0mfdst\u001b[0m\u001b[0;34m.\u001b[0m\u001b[0mwrite\u001b[0m\u001b[0;34m(\u001b[0m\u001b[0mbuf\u001b[0m\u001b[0;34m)\u001b[0m\u001b[0;34m\u001b[0m\u001b[0;34m\u001b[0m\u001b[0m\n\u001b[0m\u001b[1;32m     83\u001b[0m \u001b[0;34m\u001b[0m\u001b[0m\n\u001b[1;32m     84\u001b[0m \u001b[0;32mdef\u001b[0m \u001b[0m_samefile\u001b[0m\u001b[0;34m(\u001b[0m\u001b[0msrc\u001b[0m\u001b[0;34m,\u001b[0m \u001b[0mdst\u001b[0m\u001b[0;34m)\u001b[0m\u001b[0;34m:\u001b[0m\u001b[0;34m\u001b[0m\u001b[0;34m\u001b[0m\u001b[0m\n",
            "\u001b[0;31mKeyboardInterrupt\u001b[0m: "
          ]
        }
      ]
    },
    {
      "cell_type": "code",
      "metadata": {
        "colab": {
          "base_uri": "https://localhost:8080/",
          "height": 34
        },
        "id": "uFG9xquXfDza",
        "outputId": "2a661e59-d96d-45fa-9a82-ca691e410d69"
      },
      "source": [
        "#K.set_image_dim_ordering(\"th\")\n",
        "K.set_image_data_format('channels_first')\n",
        "\n",
        "img_size = 240      #original img size is 240*240\n",
        "smooth = 0.005 \n",
        "num_of_aug = 2\n",
        "num_epoch = 30\n",
        "pul_seq = 'Flair'\n",
        "sharp = False       # sharpen filter\n",
        "LR = 1e-4\n",
        "\n",
        "num_of_patch = 4 #must be a square number\n",
        "label_num = 5   # 1 = necrosis+NET, 2 = tumor core,3= original, 4 = ET, 5 = complete tumor\n",
        "'''\n",
        "0: other\n",
        "1: necrosis + NET\n",
        "2: edema\n",
        "3: original\n",
        "4: enhancing tumor\n",
        "5: full tumor\n",
        "'''"
      ],
      "execution_count": null,
      "outputs": [
        {
          "output_type": "execute_result",
          "data": {
            "application/vnd.google.colaboratory.intrinsic+json": {
              "type": "string"
            },
            "text/plain": [
              "'\\n0: other\\n1: necrosis + NET\\n2: edema\\n3: original\\n4: enhancing tumor\\n5: full tumor\\n'"
            ]
          },
          "metadata": {},
          "execution_count": 4
        }
      ]
    },
    {
      "cell_type": "code",
      "source": [
        "import glob"
      ],
      "metadata": {
        "id": "K5uk5aO-M9pA"
      },
      "execution_count": null,
      "outputs": []
    },
    {
      "cell_type": "code",
      "metadata": {
        "id": "6YaEYNEGfrgW"
      },
      "source": [
        "\n",
        "def create_data(src, mask, label=False):\n",
        "    files = glob.glob(src + mask, recursive=True)\n",
        "    print(files)\n",
        "    #r.seed(9)\n",
        "    #r.shuffle(files)    # shuffle patients\n",
        "    imgs = []\n",
        "    print('Processing---', mask)\n",
        "    for file in files:\n",
        "        img = io.imread(file, plugin='simpleitk')\n",
        "        #img = trans.resize(img, resize, mode='constant')\n",
        "        if label:\n",
        "            if label_num == 5:\n",
        "                img[img != 0] = 1       #\n",
        "            if label_num == 1:\n",
        "                img[img != 1] = 0       #\n",
        "            if label_num == 2:\n",
        "                img[img == 2] = 0       \n",
        "                img[img != 0] = 1       \n",
        "            if label_num == 4:\n",
        "                img[img != 4] = 0       #\n",
        "                img[img == 4] = 1\n",
        "            if label_num == 3:\n",
        "                img[img == 3] = 1       \n",
        "                \n",
        "                \n",
        "            img = img.astype('float32')\n",
        "        else:\n",
        "            img = (img-img.mean()) / img.std()      \n",
        "            img = img.astype('float32')\n",
        "        #print(img.shape)\n",
        "        for slice in range(60,130):     \n",
        "            img_t = img[slice,:,:]\n",
        "            img_t =img_t.reshape((1,)+img_t.shape)\n",
        "            img_t =img_t.reshape((1,)+img_t.shape) \n",
        "            for n in range(img_t.shape[0]):\n",
        "                imgs.append(img_t[n,:,:,:])\n",
        "    \n",
        "    return np.array(imgs)"
      ],
      "execution_count": null,
      "outputs": []
    },
    {
      "cell_type": "code",
      "metadata": {
        "id": "TnDOHV_wfrnT"
      },
      "source": [
        "\n",
        "def create_data_onesubject_val(src, mask,count, label=False):\n",
        "    files = glob.glob(src + mask, recursive=True)\n",
        "    #print(files)\n",
        "    #r.seed(9)\n",
        "    #r.shuffle(files)    # shuffle patients\n",
        "    k = count\n",
        "    #k=count\n",
        "    print(k)\n",
        "\n",
        "    imgs = []\n",
        "    file = files[k]\n",
        "    print('Processing---', mask,'--',file)\n",
        "    \n",
        "    img = io.imread(file, plugin='simpleitk')\n",
        "    #img = trans.resize(img, resize, mode='constant')\n",
        "    if label:\n",
        "        if label_num == 5:\n",
        "            img[img != 0] = 1       #\n",
        "        if label_num == 1:\n",
        "            img[img != 1] = 0       #\n",
        "        if label_num == 2:\n",
        "            img[img == 2] = 0       #\n",
        "            img[img != 0] = 1       #\n",
        "        if label_num == 4:\n",
        "            img[img != 4] = 0       #\n",
        "            img[img == 4] = 1\n",
        "        img = img.astype('float32')\n",
        "    else:\n",
        "        img = (img-img.mean()) / img.std()      #\n",
        "        img = img.astype('float32')\n",
        "    for slice in range(155):     #\n",
        "        img_t = img[slice,:,:]\n",
        "        img_t =img_t.reshape((1,)+img_t.shape)\n",
        "        img_t =img_t.reshape((1,)+img_t.shape)   #\n",
        "     \n",
        "        for n in range(img_t.shape[0]):\n",
        "            imgs.append(img_t[n,:,:,:])\n",
        "    \n",
        "    return np.array(imgs)"
      ],
      "execution_count": null,
      "outputs": []
    },
    {
      "cell_type": "code",
      "metadata": {
        "id": "3Be1bMRigg6O"
      },
      "source": [
        "!ls '/content/drive/My Drive/Нир(Сегментация по МРТ)/MICCAI_BraTS2020_TrainingData.rar/'"
      ],
      "execution_count": null,
      "outputs": []
    },
    {
      "cell_type": "code",
      "source": [
        "'''src='/content/MICCAI_BraTS2020_TrainingData/'\n",
        "mask='BraTS20_Training_012/BraTS20_Training_012_flair.nii'\n",
        "label=False\n",
        "files = (src + mask)\n",
        "print(files)\n",
        "    #r.seed(9)\n",
        "    #r.shuffle(files)    # shuffle patients\n",
        "imgs = []\n",
        "print('Processing---', mask)\n",
        "img = io.imread(files, plugin='simpleitk')\n",
        "        #img = trans.resize(img, resize, mode='constant')\n",
        "if label:\n",
        "            if label_num == 5:\n",
        "                img[img != 0] = 1       #Region 1 => 1+2+3+4 complete tumor\n",
        "            if label_num == 1:\n",
        "                img[img != 1] = 0       #only left necrosis and NET\n",
        "            if label_num == 2:\n",
        "                img[img == 2] = 0       #turn edema to 0\n",
        "                img[img != 0] = 1       #only keep necrosis, ET, NET = Tumor core\n",
        "            if label_num == 4:\n",
        "                img[img != 4] = 0       #only left ET\n",
        "                img[img == 4] = 1\n",
        "            if label_num == 3:\n",
        "                img[img == 3] = 1       # remain GT, design for 2015 data\n",
        "                \n",
        "                \n",
        "            img = img.astype('float32')\n",
        "else:\n",
        "            img = (img-img.mean()) / img.std()      #normalization => zero mean   !!!care for the std=0 problem\n",
        "            img = img.astype('float32')\n",
        "        #print(img.shape)\n",
        "for slice in range(60,130):     #choose the slice range\n",
        "            img_t = img[slice,:,:]\n",
        "            print(img_t.shape,'  0')\n",
        "            img_t =img_t.reshape((1,)+img_t.shape)\n",
        "            print(img_t.shape,'  1  ',img_t)\n",
        "            img_t =img_t.reshape((1,)+img_t.shape) \n",
        "            print(img_t.shape,'  2  ',img_t)\n",
        "            for n in range(img_t.shape[0]):\n",
        "                imgs.append(img_t[n,:,:])\n",
        "    \n",
        "'/content/MICCAI_BraTS2020_TrainingData/BraTS20_Training_031/BraTS20_Training_031_flair.nii'\n",
        "'''"
      ],
      "metadata": {
        "colab": {
          "base_uri": "https://localhost:8080/",
          "height": 160
        },
        "id": "9NPEwWeYM6UE",
        "outputId": "7ca13771-1c17-4bc8-ae6d-e48d1b71afdf"
      },
      "execution_count": null,
      "outputs": [
        {
          "output_type": "execute_result",
          "data": {
            "application/vnd.google.colaboratory.intrinsic+json": {
              "type": "string"
            },
            "text/plain": [
              "\"src='/content/MICCAI_BraTS2020_TrainingData/'\\nmask='BraTS20_Training_012/BraTS20_Training_012_flair.nii'\\nlabel=False\\nfiles = (src + mask)\\nprint(files)\\n    #r.seed(9)\\n    #r.shuffle(files)    # shuffle patients\\nimgs = []\\nprint('Processing---', mask)\\nimg = io.imread(files, plugin='simpleitk')\\n        #img = trans.resize(img, resize, mode='constant')\\nif label:\\n            if label_num == 5:\\n                img[img != 0] = 1       #Region 1 => 1+2+3+4 complete tumor\\n            if label_num == 1:\\n                img[img != 1] = 0       #only left necrosis and NET\\n            if label_num == 2:\\n                img[img == 2] = 0       #turn edema to 0\\n                img[img != 0] = 1       #only keep necrosis, ET, NET = Tumor core\\n            if label_num == 4:\\n                img[img != 4] = 0       #only left ET\\n                img[img == 4] = 1\\n            if label_num == 3:\\n                img[img == 3] = 1       # remain GT, design for 2015 data\\n                \\n                \\n            img = img.astype('float32')\\nelse:\\n            img = (img-img.mean()) / img.std()      #normalization => zero mean   !!!care for the std=0 problem\\n            img = img.astype('float32')\\n        #print(img.shape)\\nfor slice in range(60,130):     #choose the slice range\\n            img_t = img[slice,:,:]\\n            print(img_t.shape,'  0')\\n            img_t =img_t.reshape((1,)+img_t.shape)\\n            print(img_t.shape,'  1  ',img_t)\\n            img_t =img_t.reshape((1,)+img_t.shape) \\n            print(img_t.shape,'  2  ',img_t)\\n            for n in range(img_t.shape[0]):\\n                imgs.append(img_t[n,:,:])\\n    \\n'/content/MICCAI_BraTS2020_TrainingData/BraTS20_Training_031/BraTS20_Training_031_flair.nii'\\n\""
            ]
          },
          "metadata": {},
          "execution_count": 10
        }
      ]
    },
    {
      "cell_type": "code",
      "source": [
        "np.array(imgs).shape"
      ],
      "metadata": {
        "colab": {
          "base_uri": "https://localhost:8080/"
        },
        "id": "ZW0qRS45QXBw",
        "outputId": "7a824b6a-0622-4950-c1f5-20310ea9370a"
      },
      "execution_count": null,
      "outputs": [
        {
          "output_type": "execute_result",
          "data": {
            "text/plain": [
              "(70, 1, 240, 240)"
            ]
          },
          "metadata": {},
          "execution_count": 19
        }
      ]
    },
    {
      "cell_type": "code",
      "metadata": {
        "colab": {
          "base_uri": "https://localhost:8080/"
        },
        "id": "rNJbxcZYfrqQ",
        "outputId": "6c34cc4c-723a-40a2-930c-5b7a2412cc7b"
      },
      "source": [
        "\n",
        "count = 100\n",
        "pul_seq = 'flair'\n",
        "Flair = create_data('/content/MICCAI_BraTS2020_TrainingData/', '**/*{}.nii'.format(pul_seq),  label=False)\n",
        "#Flair = create_data_onesubject_val('MICCAI_BraTS2020_TrainingData/', '**/*{}.nii.gz'.format(pul_seq), count, label=False)\n",
        "pul_seq = 't1ce'\n",
        "#T1c = create_data('/content/MICCAI_BraTS2020_TrainingData/', '**/*{}.nii'.format(pul_seq),  label=False)\n",
        "pul_seq = 't1'\n",
        "#T1 = create_data('/content/MICCAI_BraTS2020_TrainingData/', '**/*{}.nii'.format(pul_seq),  label=False)\n",
        "pul_seq = 't2'\n",
        "T2 = create_data('/content/MICCAI_BraTS2020_TrainingData/', '**/*{}.nii'.format(pul_seq),  label=False)\n",
        "label_num = 5\n",
        "Label_full = create_data('/content/MICCAI_BraTS2020_TrainingData/', '**/*seg.nii',  label=True)\n",
        "label_num = 2\n",
        "#Label_core = create_data('/content/MICCAI_BraTS2020_TrainingData/', '**/*seg.nii',  label=True)\n",
        "#label_num = 4\n",
        "#Label_ET = create_data('/content/MICCAI_BraTS2020_TrainingData/', '**/*seg.nii',  label=True)\n",
        "label_num = 3\n",
        "#Label_all = create_data('/content/MICCAI_BraTS2020_TrainingData/', '**/*seg.nii', label=True)"
      ],
      "execution_count": null,
      "outputs": [
        {
          "output_type": "stream",
          "name": "stdout",
          "text": [
            "[]\n",
            "Processing--- **/*flair.nii\n",
            "[]\n",
            "Processing--- **/*t2.nii\n",
            "[]\n",
            "Processing--- **/*seg.nii\n"
          ]
        }
      ]
    },
    {
      "cell_type": "code",
      "source": [
        "Flair.shape"
      ],
      "metadata": {
        "id": "SwfZtrl3gIm0",
        "colab": {
          "base_uri": "https://localhost:8080/"
        },
        "outputId": "a4e32203-4431-4939-c2e7-2b2c5d94809c"
      },
      "execution_count": null,
      "outputs": [
        {
          "output_type": "execute_result",
          "data": {
            "text/plain": [
              "(2940, 1, 240, 240)"
            ]
          },
          "metadata": {},
          "execution_count": 11
        }
      ]
    },
    {
      "cell_type": "code",
      "metadata": {
        "colab": {
          "base_uri": "https://localhost:8080/",
          "height": 512
        },
        "id": "n4UfnKXQfrtd",
        "outputId": "041f32b1-ec07-4b9e-ab16-8ef0857e9d2a"
      },
      "source": [
        "plt.figure(figsize=(15,10))\n",
        "\n",
        "'''plt.subplot(241)\n",
        "plt.title('T1')\n",
        "plt.axis('off')\n",
        "plt.imshow(T1[30,0,:,:],cmap='gray')'''\n",
        "\n",
        "plt.subplot(241)\n",
        "plt.title('T2')\n",
        "plt.axis('off')\n",
        "plt.imshow(T2[90, 0, :, :],cmap='gray')\n",
        "    \n",
        "plt.subplot(242)\n",
        "plt.title('Flair')\n",
        "plt.axis('off')\n",
        "plt.imshow(Flair[90,0, :, :],cmap='gray')\n",
        "\n",
        "'''plt.subplot(244)\n",
        "plt.title('T1c')\n",
        "plt.axis('off')\n",
        "plt.imshow(T1c[30,0, :, :],cmap='gray')'''\n",
        "\n",
        "plt.subplot(243)\n",
        "plt.title('Ground Truth(Full)')\n",
        "plt.axis('off')\n",
        "plt.imshow(Label_full[90, 0, :, :],cmap='gray')\n",
        "'''\n",
        "plt.subplot(246)\n",
        "plt.title('Ground Truth(Core)')\n",
        "plt.axis('off')\n",
        "plt.imshow(Label_core[30, 0, :, :],cmap='gray')\n",
        "\n",
        "plt.subplot(247)\n",
        "plt.title('Ground Truth(ET)')\n",
        "plt.axis('off')\n",
        "plt.imshow(Label_ET[30, 0, :, :],cmap='gray')\n",
        "\n",
        "plt.subplot(248)\n",
        "plt.title('Ground Truth(All)')\n",
        "plt.axis('off')\n",
        "plt.imshow(Label_all[30, 0, :, :],cmap='gray')'''\n",
        "\n",
        "plt.show()"
      ],
      "execution_count": null,
      "outputs": [
        {
          "output_type": "error",
          "ename": "IndexError",
          "evalue": "ignored",
          "traceback": [
            "\u001b[0;31m---------------------------------------------------------------------------\u001b[0m",
            "\u001b[0;31mIndexError\u001b[0m                                Traceback (most recent call last)",
            "\u001b[0;32m<ipython-input-9-630e58cc1e03>\u001b[0m in \u001b[0;36m<module>\u001b[0;34m()\u001b[0m\n\u001b[1;32m      9\u001b[0m \u001b[0mplt\u001b[0m\u001b[0;34m.\u001b[0m\u001b[0mtitle\u001b[0m\u001b[0;34m(\u001b[0m\u001b[0;34m'T2'\u001b[0m\u001b[0;34m)\u001b[0m\u001b[0;34m\u001b[0m\u001b[0;34m\u001b[0m\u001b[0m\n\u001b[1;32m     10\u001b[0m \u001b[0mplt\u001b[0m\u001b[0;34m.\u001b[0m\u001b[0maxis\u001b[0m\u001b[0;34m(\u001b[0m\u001b[0;34m'off'\u001b[0m\u001b[0;34m)\u001b[0m\u001b[0;34m\u001b[0m\u001b[0;34m\u001b[0m\u001b[0m\n\u001b[0;32m---> 11\u001b[0;31m \u001b[0mplt\u001b[0m\u001b[0;34m.\u001b[0m\u001b[0mimshow\u001b[0m\u001b[0;34m(\u001b[0m\u001b[0mT2\u001b[0m\u001b[0;34m[\u001b[0m\u001b[0;36m90\u001b[0m\u001b[0;34m,\u001b[0m \u001b[0;36m0\u001b[0m\u001b[0;34m,\u001b[0m \u001b[0;34m:\u001b[0m\u001b[0;34m,\u001b[0m \u001b[0;34m:\u001b[0m\u001b[0;34m]\u001b[0m\u001b[0;34m,\u001b[0m\u001b[0mcmap\u001b[0m\u001b[0;34m=\u001b[0m\u001b[0;34m'gray'\u001b[0m\u001b[0;34m)\u001b[0m\u001b[0;34m\u001b[0m\u001b[0;34m\u001b[0m\u001b[0m\n\u001b[0m\u001b[1;32m     12\u001b[0m \u001b[0;34m\u001b[0m\u001b[0m\n\u001b[1;32m     13\u001b[0m \u001b[0mplt\u001b[0m\u001b[0;34m.\u001b[0m\u001b[0msubplot\u001b[0m\u001b[0;34m(\u001b[0m\u001b[0;36m242\u001b[0m\u001b[0;34m)\u001b[0m\u001b[0;34m\u001b[0m\u001b[0;34m\u001b[0m\u001b[0m\n",
            "\u001b[0;31mIndexError\u001b[0m: too many indices for array: array is 1-dimensional, but 4 were indexed"
          ]
        },
        {
          "output_type": "display_data",
          "data": {
            "image/png": "[encoded data removed]",
            "text/plain": [
              "<Figure size 1080x720 with 1 Axes>"
            ]
          },
          "metadata": {
            "needs_background": "light"
          }
        }
      ]
    },
    {
      "cell_type": "code",
      "metadata": {
        "id": "eIAMziAsfrvr"
      },
      "source": [
        "def dice_coef(y_true, y_pred):\n",
        "    y_true_f = K.flatten(y_true)\n",
        "    y_pred_f = K.flatten(y_pred)\n",
        "    intersection = K.sum(y_true_f * y_pred_f)\n",
        "    return (2. * intersection + smooth) / (K.sum(y_true_f) + K.sum(y_pred_f) + smooth)\n",
        "\n",
        "\n",
        "def dice_coef_loss(y_true, y_pred):\n",
        "    return 1-dice_coef(y_true, y_pred)\n",
        " \n",
        "def unet_model():\n",
        "   \n",
        "    inputs = Input(( 1,img_size, img_size))\n",
        "    conv1 = Conv2D(64, (3, 3), activation='relu', padding='same') (inputs)\n",
        "    batch1 = BatchNormalization(axis=1)(conv1)\n",
        "    conv1 = Conv2D(64, (3, 3), activation='relu', padding='same') (batch1)\n",
        "    batch1 = BatchNormalization(axis=1)(conv1)\n",
        "    pool1 = MaxPooling2D((2, 2)) (batch1)\n",
        "  \n",
        "    \n",
        "    \n",
        "    conv2 = Conv2D(128, (3, 3), activation='relu', padding='same') (pool1)\n",
        "    batch2 = BatchNormalization(axis=1)(conv2)\n",
        "    conv2 = Conv2D(128, (3, 3), activation='relu', padding='same') (batch2)\n",
        "    batch2 = BatchNormalization(axis=1)(conv2)\n",
        "    pool2 = MaxPooling2D((2, 2)) (batch2)\n",
        "    \n",
        "    conv3 = Conv2D(256, (3, 3), activation='relu', padding='same') (pool2)\n",
        "    batch3 = BatchNormalization(axis=1)(conv3)\n",
        "    conv3 = Conv2D(256, (3, 3), activation='relu', padding='same') (batch3)\n",
        "    batch3 = BatchNormalization(axis=1)(conv3)\n",
        "    pool3 = MaxPooling2D((2, 2)) (batch3)\n",
        "    \n",
        "    conv4 = Conv2D(512, (3, 3), activation='relu', padding='same') (pool3)\n",
        "    batch4 = BatchNormalization(axis=1)(conv4)\n",
        "    conv4 = Conv2D(512, (3, 3), activation='relu', padding='same') (batch4)\n",
        "    batch4 = BatchNormalization(axis=1)(conv4)\n",
        "    pool4 = MaxPooling2D(pool_size=(2, 2)) (batch4)\n",
        "    \n",
        "    conv5 = Conv2D(1024, (3, 3), activation='relu', padding='same') (pool4)\n",
        "    batch5 = BatchNormalization(axis=1)(conv5)\n",
        "    conv5 = Conv2D(1024, (3, 3), activation='relu', padding='same') (batch5)\n",
        "    batch5 = BatchNormalization(axis=1)(conv5)\n",
        "    \n",
        "    up6 = Conv2DTranspose(512, (2, 2), strides=(2, 2), padding='same') (batch5)\n",
        "    up6 = concatenate([up6, conv4], axis=1)\n",
        "    conv6 = Conv2D(512, (3, 3), activation='relu', padding='same') (up6)\n",
        "    batch6 = BatchNormalization(axis=1)(conv6)\n",
        "    conv6 = Conv2D(512, (3, 3), activation='relu', padding='same') (batch6)\n",
        "    batch6 = BatchNormalization(axis=1)(conv6)\n",
        "    \n",
        "    up7 = Conv2DTranspose(256, (2, 2), strides=(2, 2), padding='same') (batch6)\n",
        "    up7 = concatenate([up7, conv3], axis=1)\n",
        "    conv7 = Conv2D(256, (3, 3), activation='relu', padding='same') (up7)\n",
        "    batch7 = BatchNormalization(axis=1)(conv7)\n",
        "    conv7 = Conv2D(256, (3, 3), activation='relu', padding='same') (batch7)\n",
        "    batch7 = BatchNormalization(axis=1)(conv7)\n",
        "    \n",
        "    up8 = Conv2DTranspose(128, (2, 2), strides=(2, 2), padding='same') (batch7)\n",
        "    up8 = concatenate([up8, conv2], axis=1)\n",
        "    conv8 = Conv2D(128, (3, 3), activation='relu', padding='same') (up8)\n",
        "    batch8 = BatchNormalization(axis=1)(conv8)\n",
        "    conv8 = Conv2D(128, (3, 3), activation='relu', padding='same') (batch8)\n",
        "    batch8 = BatchNormalization(axis=1)(conv8)\n",
        "    \n",
        "    up9 = Conv2DTranspose(64, (2, 2), strides=(2, 2), padding='same') (batch8)\n",
        "    up9 = concatenate([up9, conv1], axis=1)\n",
        "    conv9 = Conv2D(64, (3, 3), activation='relu', padding='same') (up9)\n",
        "    batch9 = BatchNormalization(axis=1)(conv9)\n",
        "    conv9 = Conv2D(64, (3, 3), activation='relu', padding='same') (batch9)\n",
        "    batch9 = BatchNormalization(axis=1)(conv9)\n",
        "\n",
        "    conv10 = Conv2D(1, (1, 1), activation='sigmoid')(batch9)\n",
        "\n",
        "    model = Model(inputs=[inputs], outputs=[conv10])#Поменять параметр по умолчанию  data_format=MKL\n",
        "\n",
        "    model.compile(optimizer=Adam(lr=LR), loss=dice_coef_loss, metrics=[dice_coef])\n",
        "\n",
        "    return model"
      ],
      "execution_count": null,
      "outputs": []
    },
    {
      "cell_type": "code",
      "source": [
        "def segnet():\n",
        "  inp = Input((1,img_size, img_size))\n",
        "\n",
        "  conv_1_1 = Conv2D(64, (3, 3), padding='same')(inp)\n",
        "  conv_1_1 = Activation('relu')(conv_1_1)\n",
        "\n",
        "  conv_1_2 = Conv2D(64, (3, 3), padding='same')(conv_1_1)\n",
        "  conv_1_2 = Activation('relu')(conv_1_2)\n",
        "\n",
        "  pool_1 = MaxPooling2D(2,2)(conv_1_2)\n",
        "\n",
        "\n",
        "  conv_2_1 = Conv2D(128, (3, 3), padding='same')(pool_1)\n",
        "  conv_2_1 = Activation('relu')(conv_2_1)\n",
        "\n",
        "  conv_2_2 = Conv2D(128, (3, 3), padding='same')(conv_2_1)\n",
        "  conv_2_2 = Activation('relu')(conv_2_2)\n",
        "\n",
        "  pool_2 = MaxPooling2D(2,2)(conv_2_2)\n",
        "\n",
        "\n",
        "  conv_3_1 = Conv2D(256, (3, 3), padding='same')(pool_2)\n",
        "  conv_3_1 = Activation('relu')(conv_3_1)\n",
        "\n",
        "  conv_3_2 = Conv2D(256, (3, 3), padding='same')(conv_3_1)\n",
        "  conv_3_2 = Activation('relu')(conv_3_2)\n",
        "\n",
        "  pool_3 = MaxPooling2D(2,2)(conv_3_2)\n",
        "\n",
        "\n",
        "  conv_4_1 = Conv2D(512, (3, 3), padding='same')(pool_3)\n",
        "  conv_4_1 = Activation('relu')(conv_4_1)\n",
        "\n",
        "  conv_4_2 = Conv2D(512, (3, 3), padding='same')(conv_4_1)\n",
        "  conv_4_2 = Activation('relu')(conv_4_2)\n",
        "\n",
        "  pool_4 = MaxPooling2D(2,2)(conv_4_2)\n",
        "\n",
        "  up_1 = UpSampling2D(2, interpolation='bilinear')(pool_4)\n",
        "  conv_up_1_1 = Conv2D(512, (3, 3), padding='same')(up_1)\n",
        "  conv_up_1_1 = Activation('relu')(conv_up_1_1)\n",
        "\n",
        "  conv_up_1_2 = Conv2D(512, (3, 3), padding='same')(conv_up_1_1)\n",
        "  conv_up_1_2 = Activation('relu')(conv_up_1_2)\n",
        "\n",
        "\n",
        "  up_2 = UpSampling2D(2, interpolation='bilinear')(conv_up_1_2)\n",
        "  conv_up_2_1 = Conv2D(256, (3, 3), padding='same')(up_2)\n",
        "  conv_up_2_1 = Activation('relu')(conv_up_2_1)\n",
        "\n",
        "  conv_up_2_2 = Conv2D(256, (3, 3), padding='same')(conv_up_2_1)\n",
        "  conv_up_2_2 = Activation('relu')(conv_up_2_2)\n",
        "\n",
        "\n",
        "  up_3 = UpSampling2D(2, interpolation='bilinear')(conv_up_2_2)\n",
        "  conv_up_3_1 = Conv2D(128, (3, 3), padding='same')(up_3)\n",
        "  conv_up_3_1 = Activation('relu')(conv_up_3_1)\n",
        "\n",
        "  conv_up_3_2 = Conv2D(128, (3, 3), padding='same')(conv_up_3_1)\n",
        "  conv_up_3_2 = Activation('relu')(conv_up_3_2)\n",
        "\n",
        "\n",
        "\n",
        "  up_4 = UpSampling2D(2, interpolation='bilinear')(conv_up_3_2)\n",
        "  conv_up_4_1 = Conv2D(64, (3, 3), padding='same')(up_4)\n",
        "  conv_up_4_1 = Activation('relu')(conv_up_4_1)\n",
        "\n",
        "  conv_up_4_2 = Conv2D(1, (1, 1), padding='same')(conv_up_4_1)\n",
        "  result = Activation('sigmoid')(conv_up_4_2)\n",
        "\n",
        "\n",
        "  model = Model(inputs=inp, outputs=result)\n",
        "  model.compile(optimizer=Adam(lr=LR), loss=dice_coef_loss, metrics=[dice_coef])\n",
        "  return model"
      ],
      "metadata": {
        "id": "x6_zpc299fHf"
      },
      "execution_count": null,
      "outputs": []
    },
    {
      "cell_type": "code",
      "source": [
        "from sklearn.model_selection import train_test_split"
      ],
      "metadata": {
        "id": "2G22xVE-5tyM"
      },
      "execution_count": null,
      "outputs": []
    },
    {
      "cell_type": "code",
      "source": [
        "Flair.shape"
      ],
      "metadata": {
        "colab": {
          "base_uri": "https://localhost:8080/"
        },
        "id": "J3vwS0tBPNvZ",
        "outputId": "4782a36c-eb8a-4283-d0a1-18c8e88b5dff"
      },
      "execution_count": null,
      "outputs": [
        {
          "output_type": "execute_result",
          "data": {
            "text/plain": [
              "(2660, 1, 240, 240)"
            ]
          },
          "metadata": {},
          "execution_count": 18
        }
      ]
    },
    {
      "cell_type": "code",
      "source": [
        "x = np.zeros((2940,2,240,240),np.float32)\n",
        "x[:,:1,:,:] = Flair[:,:,:,:]   \n",
        "x[:,1:,:,:] = T2[:,:,:,:]"
      ],
      "metadata": {
        "id": "ZGWnUq2qPB3X"
      },
      "execution_count": null,
      "outputs": []
    },
    {
      "cell_type": "code",
      "source": [
        "x = np.zeros((2940,1,240,240),np.float32)\n",
        "x[:,:,:,:] = Flair[:,:,:,:] "
      ],
      "metadata": {
        "id": "Rr2D0zf5etdB"
      },
      "execution_count": null,
      "outputs": []
    },
    {
      "cell_type": "code",
      "source": [
        "x.shape"
      ],
      "metadata": {
        "colab": {
          "base_uri": "https://localhost:8080/"
        },
        "id": "edgJoRXmPfyk",
        "outputId": "0d20341a-cd46-48e5-db84-931f9a038a4a"
      },
      "execution_count": null,
      "outputs": [
        {
          "output_type": "execute_result",
          "data": {
            "text/plain": [
              "(2940, 1, 240, 240)"
            ]
          },
          "metadata": {},
          "execution_count": 83
        }
      ]
    },
    {
      "cell_type": "code",
      "source": [
        "X_train, X_test, Y_train, y_test = train_test_split(x, Label_full, test_size=0.1, random_state=42)"
      ],
      "metadata": {
        "id": "_38f6dBN5jpW"
      },
      "execution_count": null,
      "outputs": []
    },
    {
      "cell_type": "code",
      "source": [
        "x_train,x_val,y_train,y_val=train_test_split(X_train,Y_train,test_size=0.10,random_state=42)"
      ],
      "metadata": {
        "id": "VEedkWDC2vJf"
      },
      "execution_count": null,
      "outputs": []
    },
    {
      "cell_type": "code",
      "metadata": {
        "id": "7lDAUSy8fryD",
        "colab": {
          "base_uri": "https://localhost:8080/"
        },
        "outputId": "f4d1af41-760b-45f2-a037-1e1c00205b69"
      },
      "source": [
        "model = segnet()\n",
        "#model=unet_model()\n",
        "#model.load_weights('/content/drive/My Drive/Нир(Сегментация по МРТ)/wights_Flair_T2.h5')\n",
        "#history = model.fit(x, y, batch_size=16, validation_split=0,validation_data = (val_x,val_y) ,epochs = 40,callbacks = callbacks_list ,verbose=1, shuffle=True)\n"
      ],
      "execution_count": null,
      "outputs": [
        {
          "output_type": "stream",
          "name": "stderr",
          "text": [
            "/usr/local/lib/python3.7/dist-packages/keras/optimizer_v2/adam.py:105: UserWarning: The `lr` argument is deprecated, use `learning_rate` instead.\n",
            "  super(Adam, self).__init__(name, **kwargs)\n"
          ]
        }
      ]
    },
    {
      "cell_type": "code",
      "source": [
        "x_train.shape,x_val.shape"
      ],
      "metadata": {
        "colab": {
          "base_uri": "https://localhost:8080/"
        },
        "id": "vOkgJq8LcM0D",
        "outputId": "8d009209-85af-4f17-e17f-708cff50e5f1"
      },
      "execution_count": null,
      "outputs": [
        {
          "output_type": "execute_result",
          "data": {
            "text/plain": [
              "((2381, 2, 240, 240), (265, 2, 240, 240))"
            ]
          },
          "metadata": {},
          "execution_count": 16
        }
      ]
    },
    {
      "cell_type": "code",
      "source": [
        "history=model.fit(x_train, y_train, batch_size=16, validation_split=0,validation_data=(x_val,y_val) ,epochs = 40 ,verbose=1, shuffle=True)"
      ],
      "metadata": {
        "id": "qtCUXxk-nOc7",
        "colab": {
          "base_uri": "https://localhost:8080/",
          "height": 1000
        },
        "outputId": "d42385eb-24f6-4654-c608-cd0c7589f0d0"
      },
      "execution_count": null,
      "outputs": [
        {
          "output_type": "stream",
          "name": "stdout",
          "text": [
            "Epoch 1/40\n",
            "149/149 [==============================] - 74s 494ms/step - loss: 0.2109 - dice_coef: 0.7892 - val_loss: 0.1927 - val_dice_coef: 0.8086\n",
            "Epoch 2/40\n",
            "149/149 [==============================] - 73s 491ms/step - loss: 0.1804 - dice_coef: 0.8197 - val_loss: 0.2419 - val_dice_coef: 0.7597\n",
            "Epoch 3/40\n",
            "149/149 [==============================] - 76s 507ms/step - loss: 0.1695 - dice_coef: 0.8304 - val_loss: 0.1627 - val_dice_coef: 0.8386\n",
            "Epoch 4/40\n",
            "149/149 [==============================] - 76s 509ms/step - loss: 0.1520 - dice_coef: 0.8481 - val_loss: 0.1458 - val_dice_coef: 0.8554\n",
            "Epoch 5/40\n",
            "149/149 [==============================] - 73s 491ms/step - loss: 0.1409 - dice_coef: 0.8591 - val_loss: 0.1389 - val_dice_coef: 0.8624\n",
            "Epoch 6/40\n",
            "149/149 [==============================] - 73s 490ms/step - loss: 0.1379 - dice_coef: 0.8621 - val_loss: 0.1311 - val_dice_coef: 0.8702\n",
            "Epoch 7/40\n",
            "149/149 [==============================] - 73s 489ms/step - loss: 0.1338 - dice_coef: 0.8662 - val_loss: 0.1262 - val_dice_coef: 0.8750\n",
            "Epoch 8/40\n",
            "149/149 [==============================] - 72s 486ms/step - loss: 0.1282 - dice_coef: 0.8718 - val_loss: 0.1254 - val_dice_coef: 0.8758\n",
            "Epoch 9/40\n",
            "149/149 [==============================] - 72s 485ms/step - loss: 0.1263 - dice_coef: 0.8737 - val_loss: 0.1166 - val_dice_coef: 0.8846\n",
            "Epoch 10/40\n",
            "149/149 [==============================] - 72s 485ms/step - loss: 0.1147 - dice_coef: 0.8852 - val_loss: 0.1128 - val_dice_coef: 0.8884\n",
            "Epoch 11/40\n",
            "149/149 [==============================] - 72s 485ms/step - loss: 0.1113 - dice_coef: 0.8887 - val_loss: 0.1148 - val_dice_coef: 0.8864\n",
            "Epoch 12/40\n",
            "149/149 [==============================] - 72s 485ms/step - loss: 0.1111 - dice_coef: 0.8889 - val_loss: 0.1083 - val_dice_coef: 0.8928\n",
            "Epoch 13/40\n",
            "149/149 [==============================] - 72s 485ms/step - loss: 0.1044 - dice_coef: 0.8955 - val_loss: 0.1051 - val_dice_coef: 0.8960\n",
            "Epoch 14/40\n",
            "149/149 [==============================] - 72s 485ms/step - loss: 0.1057 - dice_coef: 0.8943 - val_loss: 0.1025 - val_dice_coef: 0.8986\n",
            "Epoch 15/40\n",
            "149/149 [==============================] - 72s 484ms/step - loss: 0.0992 - dice_coef: 0.9008 - val_loss: 0.1026 - val_dice_coef: 0.8985\n",
            "Epoch 16/40\n",
            "149/149 [==============================] - 72s 484ms/step - loss: 0.0966 - dice_coef: 0.9034 - val_loss: 0.0995 - val_dice_coef: 0.9015\n",
            "Epoch 17/40\n",
            "149/149 [==============================] - 72s 484ms/step - loss: 0.0949 - dice_coef: 0.9051 - val_loss: 0.0947 - val_dice_coef: 0.9063\n",
            "Epoch 18/40\n",
            "149/149 [==============================] - 72s 484ms/step - loss: 0.0929 - dice_coef: 0.9071 - val_loss: 0.0937 - val_dice_coef: 0.9072\n",
            "Epoch 19/40\n",
            "149/149 [==============================] - 72s 483ms/step - loss: 0.0924 - dice_coef: 0.9076 - val_loss: 0.0940 - val_dice_coef: 0.9070\n",
            "Epoch 20/40\n",
            "149/149 [==============================] - 72s 483ms/step - loss: 0.0901 - dice_coef: 0.9099 - val_loss: 0.0924 - val_dice_coef: 0.9086\n",
            "Epoch 21/40\n",
            "149/149 [==============================] - 72s 482ms/step - loss: 0.0859 - dice_coef: 0.9141 - val_loss: 0.0890 - val_dice_coef: 0.9119\n",
            "Epoch 22/40\n",
            "149/149 [==============================] - 72s 482ms/step - loss: 0.0845 - dice_coef: 0.9155 - val_loss: 0.0890 - val_dice_coef: 0.9120\n",
            "Epoch 23/40\n",
            "149/149 [==============================] - 72s 481ms/step - loss: 0.0847 - dice_coef: 0.9153 - val_loss: 0.0862 - val_dice_coef: 0.9148\n",
            "Epoch 24/40\n",
            "149/149 [==============================] - 72s 482ms/step - loss: 0.0858 - dice_coef: 0.9141 - val_loss: 0.0973 - val_dice_coef: 0.9037\n",
            "Epoch 25/40\n",
            "149/149 [==============================] - 72s 482ms/step - loss: 0.0830 - dice_coef: 0.9170 - val_loss: 0.0854 - val_dice_coef: 0.9156\n",
            "Epoch 26/40\n",
            "149/149 [==============================] - 72s 482ms/step - loss: 0.0790 - dice_coef: 0.9210 - val_loss: 0.0906 - val_dice_coef: 0.9104\n",
            "Epoch 27/40\n",
            "149/149 [==============================] - 72s 481ms/step - loss: 0.0803 - dice_coef: 0.9197 - val_loss: 0.0867 - val_dice_coef: 0.9142\n",
            "Epoch 28/40\n",
            " 81/149 [===============>..............] - ETA: 31s - loss: 0.0784 - dice_coef: 0.9216"
          ]
        },
        {
          "output_type": "error",
          "ename": "KeyboardInterrupt",
          "evalue": "ignored",
          "traceback": [
            "\u001b[0;31m---------------------------------------------------------------------------\u001b[0m",
            "\u001b[0;31mKeyboardInterrupt\u001b[0m                         Traceback (most recent call last)",
            "\u001b[0;32m<ipython-input-19-763a05ab3a57>\u001b[0m in \u001b[0;36m<module>\u001b[0;34m()\u001b[0m\n\u001b[0;32m----> 1\u001b[0;31m \u001b[0mhistory\u001b[0m\u001b[0;34m=\u001b[0m\u001b[0mmodel\u001b[0m\u001b[0;34m.\u001b[0m\u001b[0mfit\u001b[0m\u001b[0;34m(\u001b[0m\u001b[0mx_train\u001b[0m\u001b[0;34m,\u001b[0m \u001b[0my_train\u001b[0m\u001b[0;34m,\u001b[0m \u001b[0mbatch_size\u001b[0m\u001b[0;34m=\u001b[0m\u001b[0;36m16\u001b[0m\u001b[0;34m,\u001b[0m \u001b[0mvalidation_split\u001b[0m\u001b[0;34m=\u001b[0m\u001b[0;36m0\u001b[0m\u001b[0;34m,\u001b[0m\u001b[0mvalidation_data\u001b[0m\u001b[0;34m=\u001b[0m\u001b[0;34m(\u001b[0m\u001b[0mx_val\u001b[0m\u001b[0;34m,\u001b[0m\u001b[0my_val\u001b[0m\u001b[0;34m)\u001b[0m \u001b[0;34m,\u001b[0m\u001b[0mepochs\u001b[0m \u001b[0;34m=\u001b[0m \u001b[0;36m40\u001b[0m \u001b[0;34m,\u001b[0m\u001b[0mverbose\u001b[0m\u001b[0;34m=\u001b[0m\u001b[0;36m1\u001b[0m\u001b[0;34m,\u001b[0m \u001b[0mshuffle\u001b[0m\u001b[0;34m=\u001b[0m\u001b[0;32mTrue\u001b[0m\u001b[0;34m)\u001b[0m\u001b[0;34m\u001b[0m\u001b[0;34m\u001b[0m\u001b[0m\n\u001b[0m",
            "\u001b[0;32m/usr/local/lib/python3.7/dist-packages/keras/utils/traceback_utils.py\u001b[0m in \u001b[0;36merror_handler\u001b[0;34m(*args, **kwargs)\u001b[0m\n\u001b[1;32m     62\u001b[0m     \u001b[0mfiltered_tb\u001b[0m \u001b[0;34m=\u001b[0m \u001b[0;32mNone\u001b[0m\u001b[0;34m\u001b[0m\u001b[0;34m\u001b[0m\u001b[0m\n\u001b[1;32m     63\u001b[0m     \u001b[0;32mtry\u001b[0m\u001b[0;34m:\u001b[0m\u001b[0;34m\u001b[0m\u001b[0;34m\u001b[0m\u001b[0m\n\u001b[0;32m---> 64\u001b[0;31m       \u001b[0;32mreturn\u001b[0m \u001b[0mfn\u001b[0m\u001b[0;34m(\u001b[0m\u001b[0;34m*\u001b[0m\u001b[0margs\u001b[0m\u001b[0;34m,\u001b[0m \u001b[0;34m**\u001b[0m\u001b[0mkwargs\u001b[0m\u001b[0;34m)\u001b[0m\u001b[0;34m\u001b[0m\u001b[0;34m\u001b[0m\u001b[0m\n\u001b[0m\u001b[1;32m     65\u001b[0m     \u001b[0;32mexcept\u001b[0m \u001b[0mException\u001b[0m \u001b[0;32mas\u001b[0m \u001b[0me\u001b[0m\u001b[0;34m:\u001b[0m  \u001b[0;31m# pylint: disable=broad-except\u001b[0m\u001b[0;34m\u001b[0m\u001b[0;34m\u001b[0m\u001b[0m\n\u001b[1;32m     66\u001b[0m       \u001b[0mfiltered_tb\u001b[0m \u001b[0;34m=\u001b[0m \u001b[0m_process_traceback_frames\u001b[0m\u001b[0;34m(\u001b[0m\u001b[0me\u001b[0m\u001b[0;34m.\u001b[0m\u001b[0m__traceback__\u001b[0m\u001b[0;34m)\u001b[0m\u001b[0;34m\u001b[0m\u001b[0;34m\u001b[0m\u001b[0m\n",
            "\u001b[0;32m/usr/local/lib/python3.7/dist-packages/keras/engine/training.py\u001b[0m in \u001b[0;36mfit\u001b[0;34m(self, x, y, batch_size, epochs, verbose, callbacks, validation_split, validation_data, shuffle, class_weight, sample_weight, initial_epoch, steps_per_epoch, validation_steps, validation_batch_size, validation_freq, max_queue_size, workers, use_multiprocessing)\u001b[0m\n\u001b[1;32m   1219\u001b[0m               \u001b[0mlogs\u001b[0m \u001b[0;34m=\u001b[0m \u001b[0mtmp_logs\u001b[0m  \u001b[0;31m# No error, now safe to assign to logs.\u001b[0m\u001b[0;34m\u001b[0m\u001b[0;34m\u001b[0m\u001b[0m\n\u001b[1;32m   1220\u001b[0m               \u001b[0mend_step\u001b[0m \u001b[0;34m=\u001b[0m \u001b[0mstep\u001b[0m \u001b[0;34m+\u001b[0m \u001b[0mdata_handler\u001b[0m\u001b[0;34m.\u001b[0m\u001b[0mstep_increment\u001b[0m\u001b[0;34m\u001b[0m\u001b[0;34m\u001b[0m\u001b[0m\n\u001b[0;32m-> 1221\u001b[0;31m               \u001b[0mcallbacks\u001b[0m\u001b[0;34m.\u001b[0m\u001b[0mon_train_batch_end\u001b[0m\u001b[0;34m(\u001b[0m\u001b[0mend_step\u001b[0m\u001b[0;34m,\u001b[0m \u001b[0mlogs\u001b[0m\u001b[0;34m)\u001b[0m\u001b[0;34m\u001b[0m\u001b[0;34m\u001b[0m\u001b[0m\n\u001b[0m\u001b[1;32m   1222\u001b[0m               \u001b[0;32mif\u001b[0m \u001b[0mself\u001b[0m\u001b[0;34m.\u001b[0m\u001b[0mstop_training\u001b[0m\u001b[0;34m:\u001b[0m\u001b[0;34m\u001b[0m\u001b[0;34m\u001b[0m\u001b[0m\n\u001b[1;32m   1223\u001b[0m                 \u001b[0;32mbreak\u001b[0m\u001b[0;34m\u001b[0m\u001b[0;34m\u001b[0m\u001b[0m\n",
            "\u001b[0;32m/usr/local/lib/python3.7/dist-packages/keras/callbacks.py\u001b[0m in \u001b[0;36mon_train_batch_end\u001b[0;34m(self, batch, logs)\u001b[0m\n\u001b[1;32m    434\u001b[0m     \"\"\"\n\u001b[1;32m    435\u001b[0m     \u001b[0;32mif\u001b[0m \u001b[0mself\u001b[0m\u001b[0;34m.\u001b[0m\u001b[0m_should_call_train_batch_hooks\u001b[0m\u001b[0;34m:\u001b[0m\u001b[0;34m\u001b[0m\u001b[0;34m\u001b[0m\u001b[0m\n\u001b[0;32m--> 436\u001b[0;31m       \u001b[0mself\u001b[0m\u001b[0;34m.\u001b[0m\u001b[0m_call_batch_hook\u001b[0m\u001b[0;34m(\u001b[0m\u001b[0mModeKeys\u001b[0m\u001b[0;34m.\u001b[0m\u001b[0mTRAIN\u001b[0m\u001b[0;34m,\u001b[0m \u001b[0;34m'end'\u001b[0m\u001b[0;34m,\u001b[0m \u001b[0mbatch\u001b[0m\u001b[0;34m,\u001b[0m \u001b[0mlogs\u001b[0m\u001b[0;34m=\u001b[0m\u001b[0mlogs\u001b[0m\u001b[0;34m)\u001b[0m\u001b[0;34m\u001b[0m\u001b[0;34m\u001b[0m\u001b[0m\n\u001b[0m\u001b[1;32m    437\u001b[0m \u001b[0;34m\u001b[0m\u001b[0m\n\u001b[1;32m    438\u001b[0m   \u001b[0;32mdef\u001b[0m \u001b[0mon_test_batch_begin\u001b[0m\u001b[0;34m(\u001b[0m\u001b[0mself\u001b[0m\u001b[0;34m,\u001b[0m \u001b[0mbatch\u001b[0m\u001b[0;34m,\u001b[0m \u001b[0mlogs\u001b[0m\u001b[0;34m=\u001b[0m\u001b[0;32mNone\u001b[0m\u001b[0;34m)\u001b[0m\u001b[0;34m:\u001b[0m\u001b[0;34m\u001b[0m\u001b[0;34m\u001b[0m\u001b[0m\n",
            "\u001b[0;32m/usr/local/lib/python3.7/dist-packages/keras/callbacks.py\u001b[0m in \u001b[0;36m_call_batch_hook\u001b[0;34m(self, mode, hook, batch, logs)\u001b[0m\n\u001b[1;32m    293\u001b[0m       \u001b[0mself\u001b[0m\u001b[0;34m.\u001b[0m\u001b[0m_call_batch_begin_hook\u001b[0m\u001b[0;34m(\u001b[0m\u001b[0mmode\u001b[0m\u001b[0;34m,\u001b[0m \u001b[0mbatch\u001b[0m\u001b[0;34m,\u001b[0m \u001b[0mlogs\u001b[0m\u001b[0;34m)\u001b[0m\u001b[0;34m\u001b[0m\u001b[0;34m\u001b[0m\u001b[0m\n\u001b[1;32m    294\u001b[0m     \u001b[0;32melif\u001b[0m \u001b[0mhook\u001b[0m \u001b[0;34m==\u001b[0m \u001b[0;34m'end'\u001b[0m\u001b[0;34m:\u001b[0m\u001b[0;34m\u001b[0m\u001b[0;34m\u001b[0m\u001b[0m\n\u001b[0;32m--> 295\u001b[0;31m       \u001b[0mself\u001b[0m\u001b[0;34m.\u001b[0m\u001b[0m_call_batch_end_hook\u001b[0m\u001b[0;34m(\u001b[0m\u001b[0mmode\u001b[0m\u001b[0;34m,\u001b[0m \u001b[0mbatch\u001b[0m\u001b[0;34m,\u001b[0m \u001b[0mlogs\u001b[0m\u001b[0;34m)\u001b[0m\u001b[0;34m\u001b[0m\u001b[0;34m\u001b[0m\u001b[0m\n\u001b[0m\u001b[1;32m    296\u001b[0m     \u001b[0;32melse\u001b[0m\u001b[0;34m:\u001b[0m\u001b[0;34m\u001b[0m\u001b[0;34m\u001b[0m\u001b[0m\n\u001b[1;32m    297\u001b[0m       raise ValueError(\n",
            "\u001b[0;32m/usr/local/lib/python3.7/dist-packages/keras/callbacks.py\u001b[0m in \u001b[0;36m_call_batch_end_hook\u001b[0;34m(self, mode, batch, logs)\u001b[0m\n\u001b[1;32m    314\u001b[0m       \u001b[0mself\u001b[0m\u001b[0;34m.\u001b[0m\u001b[0m_batch_times\u001b[0m\u001b[0;34m.\u001b[0m\u001b[0mappend\u001b[0m\u001b[0;34m(\u001b[0m\u001b[0mbatch_time\u001b[0m\u001b[0;34m)\u001b[0m\u001b[0;34m\u001b[0m\u001b[0;34m\u001b[0m\u001b[0m\n\u001b[1;32m    315\u001b[0m \u001b[0;34m\u001b[0m\u001b[0m\n\u001b[0;32m--> 316\u001b[0;31m     \u001b[0mself\u001b[0m\u001b[0;34m.\u001b[0m\u001b[0m_call_batch_hook_helper\u001b[0m\u001b[0;34m(\u001b[0m\u001b[0mhook_name\u001b[0m\u001b[0;34m,\u001b[0m \u001b[0mbatch\u001b[0m\u001b[0;34m,\u001b[0m \u001b[0mlogs\u001b[0m\u001b[0;34m)\u001b[0m\u001b[0;34m\u001b[0m\u001b[0;34m\u001b[0m\u001b[0m\n\u001b[0m\u001b[1;32m    317\u001b[0m \u001b[0;34m\u001b[0m\u001b[0m\n\u001b[1;32m    318\u001b[0m     \u001b[0;32mif\u001b[0m \u001b[0mlen\u001b[0m\u001b[0;34m(\u001b[0m\u001b[0mself\u001b[0m\u001b[0;34m.\u001b[0m\u001b[0m_batch_times\u001b[0m\u001b[0;34m)\u001b[0m \u001b[0;34m>=\u001b[0m \u001b[0mself\u001b[0m\u001b[0;34m.\u001b[0m\u001b[0m_num_batches_for_timing_check\u001b[0m\u001b[0;34m:\u001b[0m\u001b[0;34m\u001b[0m\u001b[0;34m\u001b[0m\u001b[0m\n",
            "\u001b[0;32m/usr/local/lib/python3.7/dist-packages/keras/callbacks.py\u001b[0m in \u001b[0;36m_call_batch_hook_helper\u001b[0;34m(self, hook_name, batch, logs)\u001b[0m\n\u001b[1;32m    352\u001b[0m     \u001b[0;32mfor\u001b[0m \u001b[0mcallback\u001b[0m \u001b[0;32min\u001b[0m \u001b[0mself\u001b[0m\u001b[0;34m.\u001b[0m\u001b[0mcallbacks\u001b[0m\u001b[0;34m:\u001b[0m\u001b[0;34m\u001b[0m\u001b[0;34m\u001b[0m\u001b[0m\n\u001b[1;32m    353\u001b[0m       \u001b[0mhook\u001b[0m \u001b[0;34m=\u001b[0m \u001b[0mgetattr\u001b[0m\u001b[0;34m(\u001b[0m\u001b[0mcallback\u001b[0m\u001b[0;34m,\u001b[0m \u001b[0mhook_name\u001b[0m\u001b[0;34m)\u001b[0m\u001b[0;34m\u001b[0m\u001b[0;34m\u001b[0m\u001b[0m\n\u001b[0;32m--> 354\u001b[0;31m       \u001b[0mhook\u001b[0m\u001b[0;34m(\u001b[0m\u001b[0mbatch\u001b[0m\u001b[0;34m,\u001b[0m \u001b[0mlogs\u001b[0m\u001b[0;34m)\u001b[0m\u001b[0;34m\u001b[0m\u001b[0;34m\u001b[0m\u001b[0m\n\u001b[0m\u001b[1;32m    355\u001b[0m \u001b[0;34m\u001b[0m\u001b[0m\n\u001b[1;32m    356\u001b[0m     \u001b[0;32mif\u001b[0m \u001b[0mself\u001b[0m\u001b[0;34m.\u001b[0m\u001b[0m_check_timing\u001b[0m\u001b[0;34m:\u001b[0m\u001b[0;34m\u001b[0m\u001b[0;34m\u001b[0m\u001b[0m\n",
            "\u001b[0;32m/usr/local/lib/python3.7/dist-packages/keras/callbacks.py\u001b[0m in \u001b[0;36mon_train_batch_end\u001b[0;34m(self, batch, logs)\u001b[0m\n\u001b[1;32m   1030\u001b[0m \u001b[0;34m\u001b[0m\u001b[0m\n\u001b[1;32m   1031\u001b[0m   \u001b[0;32mdef\u001b[0m \u001b[0mon_train_batch_end\u001b[0m\u001b[0;34m(\u001b[0m\u001b[0mself\u001b[0m\u001b[0;34m,\u001b[0m \u001b[0mbatch\u001b[0m\u001b[0;34m,\u001b[0m \u001b[0mlogs\u001b[0m\u001b[0;34m=\u001b[0m\u001b[0;32mNone\u001b[0m\u001b[0;34m)\u001b[0m\u001b[0;34m:\u001b[0m\u001b[0;34m\u001b[0m\u001b[0;34m\u001b[0m\u001b[0m\n\u001b[0;32m-> 1032\u001b[0;31m     \u001b[0mself\u001b[0m\u001b[0;34m.\u001b[0m\u001b[0m_batch_update_progbar\u001b[0m\u001b[0;34m(\u001b[0m\u001b[0mbatch\u001b[0m\u001b[0;34m,\u001b[0m \u001b[0mlogs\u001b[0m\u001b[0;34m)\u001b[0m\u001b[0;34m\u001b[0m\u001b[0;34m\u001b[0m\u001b[0m\n\u001b[0m\u001b[1;32m   1033\u001b[0m \u001b[0;34m\u001b[0m\u001b[0m\n\u001b[1;32m   1034\u001b[0m   \u001b[0;32mdef\u001b[0m \u001b[0mon_test_batch_end\u001b[0m\u001b[0;34m(\u001b[0m\u001b[0mself\u001b[0m\u001b[0;34m,\u001b[0m \u001b[0mbatch\u001b[0m\u001b[0;34m,\u001b[0m \u001b[0mlogs\u001b[0m\u001b[0;34m=\u001b[0m\u001b[0;32mNone\u001b[0m\u001b[0;34m)\u001b[0m\u001b[0;34m:\u001b[0m\u001b[0;34m\u001b[0m\u001b[0;34m\u001b[0m\u001b[0m\n",
            "\u001b[0;32m/usr/local/lib/python3.7/dist-packages/keras/callbacks.py\u001b[0m in \u001b[0;36m_batch_update_progbar\u001b[0;34m(self, batch, logs)\u001b[0m\n\u001b[1;32m   1102\u001b[0m     \u001b[0;32mif\u001b[0m \u001b[0mself\u001b[0m\u001b[0;34m.\u001b[0m\u001b[0mverbose\u001b[0m \u001b[0;34m==\u001b[0m \u001b[0;36m1\u001b[0m\u001b[0;34m:\u001b[0m\u001b[0;34m\u001b[0m\u001b[0;34m\u001b[0m\u001b[0m\n\u001b[1;32m   1103\u001b[0m       \u001b[0;31m# Only block async when verbose = 1.\u001b[0m\u001b[0;34m\u001b[0m\u001b[0;34m\u001b[0m\u001b[0;34m\u001b[0m\u001b[0m\n\u001b[0;32m-> 1104\u001b[0;31m       \u001b[0mlogs\u001b[0m \u001b[0;34m=\u001b[0m \u001b[0mtf_utils\u001b[0m\u001b[0;34m.\u001b[0m\u001b[0msync_to_numpy_or_python_type\u001b[0m\u001b[0;34m(\u001b[0m\u001b[0mlogs\u001b[0m\u001b[0;34m)\u001b[0m\u001b[0;34m\u001b[0m\u001b[0;34m\u001b[0m\u001b[0m\n\u001b[0m\u001b[1;32m   1105\u001b[0m       \u001b[0mself\u001b[0m\u001b[0;34m.\u001b[0m\u001b[0mprogbar\u001b[0m\u001b[0;34m.\u001b[0m\u001b[0mupdate\u001b[0m\u001b[0;34m(\u001b[0m\u001b[0mself\u001b[0m\u001b[0;34m.\u001b[0m\u001b[0mseen\u001b[0m\u001b[0;34m,\u001b[0m \u001b[0mlist\u001b[0m\u001b[0;34m(\u001b[0m\u001b[0mlogs\u001b[0m\u001b[0;34m.\u001b[0m\u001b[0mitems\u001b[0m\u001b[0;34m(\u001b[0m\u001b[0;34m)\u001b[0m\u001b[0;34m)\u001b[0m\u001b[0;34m,\u001b[0m \u001b[0mfinalize\u001b[0m\u001b[0;34m=\u001b[0m\u001b[0;32mFalse\u001b[0m\u001b[0;34m)\u001b[0m\u001b[0;34m\u001b[0m\u001b[0;34m\u001b[0m\u001b[0m\n\u001b[1;32m   1106\u001b[0m \u001b[0;34m\u001b[0m\u001b[0m\n",
            "\u001b[0;32m/usr/local/lib/python3.7/dist-packages/keras/utils/tf_utils.py\u001b[0m in \u001b[0;36msync_to_numpy_or_python_type\u001b[0;34m(tensors)\u001b[0m\n\u001b[1;32m    552\u001b[0m     \u001b[0;32mreturn\u001b[0m \u001b[0mt\u001b[0m  \u001b[0;31m# Don't turn ragged or sparse tensors to NumPy.\u001b[0m\u001b[0;34m\u001b[0m\u001b[0;34m\u001b[0m\u001b[0m\n\u001b[1;32m    553\u001b[0m \u001b[0;34m\u001b[0m\u001b[0m\n\u001b[0;32m--> 554\u001b[0;31m   \u001b[0;32mreturn\u001b[0m \u001b[0mtf\u001b[0m\u001b[0;34m.\u001b[0m\u001b[0mnest\u001b[0m\u001b[0;34m.\u001b[0m\u001b[0mmap_structure\u001b[0m\u001b[0;34m(\u001b[0m\u001b[0m_to_single_numpy_or_python_type\u001b[0m\u001b[0;34m,\u001b[0m \u001b[0mtensors\u001b[0m\u001b[0;34m)\u001b[0m\u001b[0;34m\u001b[0m\u001b[0;34m\u001b[0m\u001b[0m\n\u001b[0m\u001b[1;32m    555\u001b[0m \u001b[0;34m\u001b[0m\u001b[0m\n\u001b[1;32m    556\u001b[0m \u001b[0;34m\u001b[0m\u001b[0m\n",
            "\u001b[0;32m/usr/local/lib/python3.7/dist-packages/tensorflow/python/util/nest.py\u001b[0m in \u001b[0;36mmap_structure\u001b[0;34m(func, *structure, **kwargs)\u001b[0m\n\u001b[1;32m    867\u001b[0m \u001b[0;34m\u001b[0m\u001b[0m\n\u001b[1;32m    868\u001b[0m   return pack_sequence_as(\n\u001b[0;32m--> 869\u001b[0;31m       \u001b[0mstructure\u001b[0m\u001b[0;34m[\u001b[0m\u001b[0;36m0\u001b[0m\u001b[0;34m]\u001b[0m\u001b[0;34m,\u001b[0m \u001b[0;34m[\u001b[0m\u001b[0mfunc\u001b[0m\u001b[0;34m(\u001b[0m\u001b[0;34m*\u001b[0m\u001b[0mx\u001b[0m\u001b[0;34m)\u001b[0m \u001b[0;32mfor\u001b[0m \u001b[0mx\u001b[0m \u001b[0;32min\u001b[0m \u001b[0mentries\u001b[0m\u001b[0;34m]\u001b[0m\u001b[0;34m,\u001b[0m\u001b[0;34m\u001b[0m\u001b[0;34m\u001b[0m\u001b[0m\n\u001b[0m\u001b[1;32m    870\u001b[0m       expand_composites=expand_composites)\n\u001b[1;32m    871\u001b[0m \u001b[0;34m\u001b[0m\u001b[0m\n",
            "\u001b[0;32m/usr/local/lib/python3.7/dist-packages/tensorflow/python/util/nest.py\u001b[0m in \u001b[0;36m<listcomp>\u001b[0;34m(.0)\u001b[0m\n\u001b[1;32m    867\u001b[0m \u001b[0;34m\u001b[0m\u001b[0m\n\u001b[1;32m    868\u001b[0m   return pack_sequence_as(\n\u001b[0;32m--> 869\u001b[0;31m       \u001b[0mstructure\u001b[0m\u001b[0;34m[\u001b[0m\u001b[0;36m0\u001b[0m\u001b[0;34m]\u001b[0m\u001b[0;34m,\u001b[0m \u001b[0;34m[\u001b[0m\u001b[0mfunc\u001b[0m\u001b[0;34m(\u001b[0m\u001b[0;34m*\u001b[0m\u001b[0mx\u001b[0m\u001b[0;34m)\u001b[0m \u001b[0;32mfor\u001b[0m \u001b[0mx\u001b[0m \u001b[0;32min\u001b[0m \u001b[0mentries\u001b[0m\u001b[0;34m]\u001b[0m\u001b[0;34m,\u001b[0m\u001b[0;34m\u001b[0m\u001b[0;34m\u001b[0m\u001b[0m\n\u001b[0m\u001b[1;32m    870\u001b[0m       expand_composites=expand_composites)\n\u001b[1;32m    871\u001b[0m \u001b[0;34m\u001b[0m\u001b[0m\n",
            "\u001b[0;32m/usr/local/lib/python3.7/dist-packages/keras/utils/tf_utils.py\u001b[0m in \u001b[0;36m_to_single_numpy_or_python_type\u001b[0;34m(t)\u001b[0m\n\u001b[1;32m    548\u001b[0m   \u001b[0;32mdef\u001b[0m \u001b[0m_to_single_numpy_or_python_type\u001b[0m\u001b[0;34m(\u001b[0m\u001b[0mt\u001b[0m\u001b[0;34m)\u001b[0m\u001b[0;34m:\u001b[0m\u001b[0;34m\u001b[0m\u001b[0;34m\u001b[0m\u001b[0m\n\u001b[1;32m    549\u001b[0m     \u001b[0;32mif\u001b[0m \u001b[0misinstance\u001b[0m\u001b[0;34m(\u001b[0m\u001b[0mt\u001b[0m\u001b[0;34m,\u001b[0m \u001b[0mtf\u001b[0m\u001b[0;34m.\u001b[0m\u001b[0mTensor\u001b[0m\u001b[0;34m)\u001b[0m\u001b[0;34m:\u001b[0m\u001b[0;34m\u001b[0m\u001b[0;34m\u001b[0m\u001b[0m\n\u001b[0;32m--> 550\u001b[0;31m       \u001b[0mx\u001b[0m \u001b[0;34m=\u001b[0m \u001b[0mt\u001b[0m\u001b[0;34m.\u001b[0m\u001b[0mnumpy\u001b[0m\u001b[0;34m(\u001b[0m\u001b[0;34m)\u001b[0m\u001b[0;34m\u001b[0m\u001b[0;34m\u001b[0m\u001b[0m\n\u001b[0m\u001b[1;32m    551\u001b[0m       \u001b[0;32mreturn\u001b[0m \u001b[0mx\u001b[0m\u001b[0;34m.\u001b[0m\u001b[0mitem\u001b[0m\u001b[0;34m(\u001b[0m\u001b[0;34m)\u001b[0m \u001b[0;32mif\u001b[0m \u001b[0mnp\u001b[0m\u001b[0;34m.\u001b[0m\u001b[0mndim\u001b[0m\u001b[0;34m(\u001b[0m\u001b[0mx\u001b[0m\u001b[0;34m)\u001b[0m \u001b[0;34m==\u001b[0m \u001b[0;36m0\u001b[0m \u001b[0;32melse\u001b[0m \u001b[0mx\u001b[0m\u001b[0;34m\u001b[0m\u001b[0;34m\u001b[0m\u001b[0m\n\u001b[1;32m    552\u001b[0m     \u001b[0;32mreturn\u001b[0m \u001b[0mt\u001b[0m  \u001b[0;31m# Don't turn ragged or sparse tensors to NumPy.\u001b[0m\u001b[0;34m\u001b[0m\u001b[0;34m\u001b[0m\u001b[0m\n",
            "\u001b[0;32m/usr/local/lib/python3.7/dist-packages/tensorflow/python/framework/ops.py\u001b[0m in \u001b[0;36mnumpy\u001b[0;34m(self)\u001b[0m\n\u001b[1;32m   1147\u001b[0m     \"\"\"\n\u001b[1;32m   1148\u001b[0m     \u001b[0;31m# TODO(slebedev): Consider avoiding a copy for non-CPU or remote tensors.\u001b[0m\u001b[0;34m\u001b[0m\u001b[0;34m\u001b[0m\u001b[0;34m\u001b[0m\u001b[0m\n\u001b[0;32m-> 1149\u001b[0;31m     \u001b[0mmaybe_arr\u001b[0m \u001b[0;34m=\u001b[0m \u001b[0mself\u001b[0m\u001b[0;34m.\u001b[0m\u001b[0m_numpy\u001b[0m\u001b[0;34m(\u001b[0m\u001b[0;34m)\u001b[0m  \u001b[0;31m# pylint: disable=protected-access\u001b[0m\u001b[0;34m\u001b[0m\u001b[0;34m\u001b[0m\u001b[0m\n\u001b[0m\u001b[1;32m   1150\u001b[0m     \u001b[0;32mreturn\u001b[0m \u001b[0mmaybe_arr\u001b[0m\u001b[0;34m.\u001b[0m\u001b[0mcopy\u001b[0m\u001b[0;34m(\u001b[0m\u001b[0;34m)\u001b[0m \u001b[0;32mif\u001b[0m \u001b[0misinstance\u001b[0m\u001b[0;34m(\u001b[0m\u001b[0mmaybe_arr\u001b[0m\u001b[0;34m,\u001b[0m \u001b[0mnp\u001b[0m\u001b[0;34m.\u001b[0m\u001b[0mndarray\u001b[0m\u001b[0;34m)\u001b[0m \u001b[0;32melse\u001b[0m \u001b[0mmaybe_arr\u001b[0m\u001b[0;34m\u001b[0m\u001b[0;34m\u001b[0m\u001b[0m\n\u001b[1;32m   1151\u001b[0m \u001b[0;34m\u001b[0m\u001b[0m\n",
            "\u001b[0;32m/usr/local/lib/python3.7/dist-packages/tensorflow/python/framework/ops.py\u001b[0m in \u001b[0;36m_numpy\u001b[0;34m(self)\u001b[0m\n\u001b[1;32m   1113\u001b[0m   \u001b[0;32mdef\u001b[0m \u001b[0m_numpy\u001b[0m\u001b[0;34m(\u001b[0m\u001b[0mself\u001b[0m\u001b[0;34m)\u001b[0m\u001b[0;34m:\u001b[0m\u001b[0;34m\u001b[0m\u001b[0;34m\u001b[0m\u001b[0m\n\u001b[1;32m   1114\u001b[0m     \u001b[0;32mtry\u001b[0m\u001b[0;34m:\u001b[0m\u001b[0;34m\u001b[0m\u001b[0;34m\u001b[0m\u001b[0m\n\u001b[0;32m-> 1115\u001b[0;31m       \u001b[0;32mreturn\u001b[0m \u001b[0mself\u001b[0m\u001b[0;34m.\u001b[0m\u001b[0m_numpy_internal\u001b[0m\u001b[0;34m(\u001b[0m\u001b[0;34m)\u001b[0m\u001b[0;34m\u001b[0m\u001b[0;34m\u001b[0m\u001b[0m\n\u001b[0m\u001b[1;32m   1116\u001b[0m     \u001b[0;32mexcept\u001b[0m \u001b[0mcore\u001b[0m\u001b[0;34m.\u001b[0m\u001b[0m_NotOkStatusException\u001b[0m \u001b[0;32mas\u001b[0m \u001b[0me\u001b[0m\u001b[0;34m:\u001b[0m  \u001b[0;31m# pylint: disable=protected-access\u001b[0m\u001b[0;34m\u001b[0m\u001b[0;34m\u001b[0m\u001b[0m\n\u001b[1;32m   1117\u001b[0m       \u001b[0;32mraise\u001b[0m \u001b[0mcore\u001b[0m\u001b[0;34m.\u001b[0m\u001b[0m_status_to_exception\u001b[0m\u001b[0;34m(\u001b[0m\u001b[0me\u001b[0m\u001b[0;34m)\u001b[0m \u001b[0;32mfrom\u001b[0m \u001b[0;32mNone\u001b[0m  \u001b[0;31m# pylint: disable=protected-access\u001b[0m\u001b[0;34m\u001b[0m\u001b[0;34m\u001b[0m\u001b[0m\n",
            "\u001b[0;31mKeyboardInterrupt\u001b[0m: "
          ]
        }
      ]
    },
    {
      "cell_type": "code",
      "source": [
        "model.save_weights('/content/wights/wights_Flair_T2_SegNet.h5')"
      ],
      "metadata": {
        "id": "qp8wURcOHrzG"
      },
      "execution_count": null,
      "outputs": []
    },
    {
      "cell_type": "markdown",
      "source": [
        ""
      ],
      "metadata": {
        "id": "Wj-g9w-_MKVM"
      }
    },
    {
      "cell_type": "code",
      "source": [
        "\n",
        "#model.load_weights('/content/wights/wights_Flair_T2_SegNet.h5')\n",
        "model.load_weights('/content/drive/MyDrive/Нир(Сегментация по МРТ)/wights_Flair_T2.h5')"
      ],
      "metadata": {
        "id": "jUEAAUsIvfOx",
        "colab": {
          "base_uri": "https://localhost:8080/",
          "height": 345
        },
        "outputId": "315ddace-d73c-466e-f7ab-94b535fdaefd"
      },
      "execution_count": null,
      "outputs": [
        {
          "output_type": "error",
          "ename": "ValueError",
          "evalue": "ignored",
          "traceback": [
            "\u001b[0;31m---------------------------------------------------------------------------\u001b[0m",
            "\u001b[0;31mValueError\u001b[0m                                Traceback (most recent call last)",
            "\u001b[0;32m<ipython-input-15-5867100f80e1>\u001b[0m in \u001b[0;36m<module>\u001b[0;34m()\u001b[0m\n\u001b[1;32m      1\u001b[0m \u001b[0;34m\u001b[0m\u001b[0m\n\u001b[1;32m      2\u001b[0m \u001b[0;31m#model.load_weights('/content/wights/wights_Flair_T2_SegNet.h5')\u001b[0m\u001b[0;34m\u001b[0m\u001b[0;34m\u001b[0m\u001b[0;34m\u001b[0m\u001b[0m\n\u001b[0;32m----> 3\u001b[0;31m \u001b[0mmodel\u001b[0m\u001b[0;34m.\u001b[0m\u001b[0mload_weights\u001b[0m\u001b[0;34m(\u001b[0m\u001b[0;34m'/content/drive/MyDrive/Нир(Сегментация по МРТ)/wights_Flair_T2.h5'\u001b[0m\u001b[0;34m)\u001b[0m\u001b[0;34m\u001b[0m\u001b[0;34m\u001b[0m\u001b[0m\n\u001b[0m",
            "\u001b[0;32m/usr/local/lib/python3.7/dist-packages/keras/utils/traceback_utils.py\u001b[0m in \u001b[0;36merror_handler\u001b[0;34m(*args, **kwargs)\u001b[0m\n\u001b[1;32m     65\u001b[0m     \u001b[0;32mexcept\u001b[0m \u001b[0mException\u001b[0m \u001b[0;32mas\u001b[0m \u001b[0me\u001b[0m\u001b[0;34m:\u001b[0m  \u001b[0;31m# pylint: disable=broad-except\u001b[0m\u001b[0;34m\u001b[0m\u001b[0;34m\u001b[0m\u001b[0m\n\u001b[1;32m     66\u001b[0m       \u001b[0mfiltered_tb\u001b[0m \u001b[0;34m=\u001b[0m \u001b[0m_process_traceback_frames\u001b[0m\u001b[0;34m(\u001b[0m\u001b[0me\u001b[0m\u001b[0;34m.\u001b[0m\u001b[0m__traceback__\u001b[0m\u001b[0;34m)\u001b[0m\u001b[0;34m\u001b[0m\u001b[0;34m\u001b[0m\u001b[0m\n\u001b[0;32m---> 67\u001b[0;31m       \u001b[0;32mraise\u001b[0m \u001b[0me\u001b[0m\u001b[0;34m.\u001b[0m\u001b[0mwith_traceback\u001b[0m\u001b[0;34m(\u001b[0m\u001b[0mfiltered_tb\u001b[0m\u001b[0;34m)\u001b[0m \u001b[0;32mfrom\u001b[0m \u001b[0;32mNone\u001b[0m\u001b[0;34m\u001b[0m\u001b[0;34m\u001b[0m\u001b[0m\n\u001b[0m\u001b[1;32m     68\u001b[0m     \u001b[0;32mfinally\u001b[0m\u001b[0;34m:\u001b[0m\u001b[0;34m\u001b[0m\u001b[0;34m\u001b[0m\u001b[0m\n\u001b[1;32m     69\u001b[0m       \u001b[0;32mdel\u001b[0m \u001b[0mfiltered_tb\u001b[0m\u001b[0;34m\u001b[0m\u001b[0;34m\u001b[0m\u001b[0m\n",
            "\u001b[0;32m/usr/local/lib/python3.7/dist-packages/keras/saving/hdf5_format.py\u001b[0m in \u001b[0;36mload_weights_from_hdf5_group\u001b[0;34m(f, model)\u001b[0m\n\u001b[1;32m    718\u001b[0m   \u001b[0;32mif\u001b[0m \u001b[0mlen\u001b[0m\u001b[0;34m(\u001b[0m\u001b[0mlayer_names\u001b[0m\u001b[0;34m)\u001b[0m \u001b[0;34m!=\u001b[0m \u001b[0mlen\u001b[0m\u001b[0;34m(\u001b[0m\u001b[0mfiltered_layers\u001b[0m\u001b[0;34m)\u001b[0m\u001b[0;34m:\u001b[0m\u001b[0;34m\u001b[0m\u001b[0;34m\u001b[0m\u001b[0m\n\u001b[1;32m    719\u001b[0m     raise ValueError(\n\u001b[0;32m--> 720\u001b[0;31m         \u001b[0;34mf'Layer count mismatch when loading weights from file. '\u001b[0m\u001b[0;34m\u001b[0m\u001b[0;34m\u001b[0m\u001b[0m\n\u001b[0m\u001b[1;32m    721\u001b[0m         \u001b[0;34mf'Model expected {len(filtered_layers)} layers, found '\u001b[0m\u001b[0;34m\u001b[0m\u001b[0;34m\u001b[0m\u001b[0m\n\u001b[1;32m    722\u001b[0m         f'{len(layer_names)} saved layers.')\n",
            "\u001b[0;31mValueError\u001b[0m: Layer count mismatch when loading weights from file. Model expected 16 layers, found 41 saved layers."
          ]
        }
      ]
    },
    {
      "cell_type": "code",
      "source": [
        "label_num = 5\n",
        "count=28\n",
        "pul_seq='flair'\n",
        "Pred_x = create_data_onesubject_val('/content/HGG/', '**/*{}.nii.gz'.format(pul_seq), count ,label=False)\n",
        "pul_seq = 't2'\n",
        "T2 = create_data_onesubject_val('/content/HGG/', '**/*{}.nii.gz'.format(pul_seq), count, label=False)\n",
        "Pred_y = create_data_onesubject_val('/content/HGG/', '**/*seg.nii.gz', count, label=True)"
      ],
      "metadata": {
        "colab": {
          "base_uri": "https://localhost:8080/",
          "height": 373
        },
        "id": "XPB8CbVIVcvT",
        "outputId": "a4dd2a21-04f3-4efb-d52b-52dddd1d039e"
      },
      "execution_count": null,
      "outputs": [
        {
          "output_type": "stream",
          "name": "stdout",
          "text": [
            "28\n"
          ]
        },
        {
          "output_type": "error",
          "ename": "IndexError",
          "evalue": "ignored",
          "traceback": [
            "\u001b[0;31m---------------------------------------------------------------------------\u001b[0m",
            "\u001b[0;31mIndexError\u001b[0m                                Traceback (most recent call last)",
            "\u001b[0;32m<ipython-input-14-4bc6ae1cabb8>\u001b[0m in \u001b[0;36m<module>\u001b[0;34m()\u001b[0m\n\u001b[1;32m      2\u001b[0m \u001b[0mcount\u001b[0m\u001b[0;34m=\u001b[0m\u001b[0;36m28\u001b[0m\u001b[0;34m\u001b[0m\u001b[0;34m\u001b[0m\u001b[0m\n\u001b[1;32m      3\u001b[0m \u001b[0mpul_seq\u001b[0m\u001b[0;34m=\u001b[0m\u001b[0;34m'flair'\u001b[0m\u001b[0;34m\u001b[0m\u001b[0;34m\u001b[0m\u001b[0m\n\u001b[0;32m----> 4\u001b[0;31m \u001b[0mPred_x\u001b[0m \u001b[0;34m=\u001b[0m \u001b[0mcreate_data_onesubject_val\u001b[0m\u001b[0;34m(\u001b[0m\u001b[0;34m'/content/HGG/'\u001b[0m\u001b[0;34m,\u001b[0m \u001b[0;34m'**/*{}.nii.gz'\u001b[0m\u001b[0;34m.\u001b[0m\u001b[0mformat\u001b[0m\u001b[0;34m(\u001b[0m\u001b[0mpul_seq\u001b[0m\u001b[0;34m)\u001b[0m\u001b[0;34m,\u001b[0m \u001b[0mcount\u001b[0m \u001b[0;34m,\u001b[0m\u001b[0mlabel\u001b[0m\u001b[0;34m=\u001b[0m\u001b[0;32mFalse\u001b[0m\u001b[0;34m)\u001b[0m\u001b[0;34m\u001b[0m\u001b[0;34m\u001b[0m\u001b[0m\n\u001b[0m\u001b[1;32m      5\u001b[0m \u001b[0mpul_seq\u001b[0m \u001b[0;34m=\u001b[0m \u001b[0;34m't2'\u001b[0m\u001b[0;34m\u001b[0m\u001b[0;34m\u001b[0m\u001b[0m\n\u001b[1;32m      6\u001b[0m \u001b[0mT2\u001b[0m \u001b[0;34m=\u001b[0m \u001b[0mcreate_data_onesubject_val\u001b[0m\u001b[0;34m(\u001b[0m\u001b[0;34m'/content/HGG/'\u001b[0m\u001b[0;34m,\u001b[0m \u001b[0;34m'**/*{}.nii.gz'\u001b[0m\u001b[0;34m.\u001b[0m\u001b[0mformat\u001b[0m\u001b[0;34m(\u001b[0m\u001b[0mpul_seq\u001b[0m\u001b[0;34m)\u001b[0m\u001b[0;34m,\u001b[0m \u001b[0mcount\u001b[0m\u001b[0;34m,\u001b[0m \u001b[0mlabel\u001b[0m\u001b[0;34m=\u001b[0m\u001b[0;32mFalse\u001b[0m\u001b[0;34m)\u001b[0m\u001b[0;34m\u001b[0m\u001b[0;34m\u001b[0m\u001b[0m\n",
            "\u001b[0;32m<ipython-input-7-aac715606276>\u001b[0m in \u001b[0;36mcreate_data_onesubject_val\u001b[0;34m(src, mask, count, label)\u001b[0m\n\u001b[1;32m     10\u001b[0m \u001b[0;34m\u001b[0m\u001b[0m\n\u001b[1;32m     11\u001b[0m     \u001b[0mimgs\u001b[0m \u001b[0;34m=\u001b[0m \u001b[0;34m[\u001b[0m\u001b[0;34m]\u001b[0m\u001b[0;34m\u001b[0m\u001b[0;34m\u001b[0m\u001b[0m\n\u001b[0;32m---> 12\u001b[0;31m     \u001b[0mfile\u001b[0m \u001b[0;34m=\u001b[0m \u001b[0mfiles\u001b[0m\u001b[0;34m[\u001b[0m\u001b[0mk\u001b[0m\u001b[0;34m]\u001b[0m\u001b[0;34m\u001b[0m\u001b[0;34m\u001b[0m\u001b[0m\n\u001b[0m\u001b[1;32m     13\u001b[0m     \u001b[0mprint\u001b[0m\u001b[0;34m(\u001b[0m\u001b[0;34m'Processing---'\u001b[0m\u001b[0;34m,\u001b[0m \u001b[0mmask\u001b[0m\u001b[0;34m,\u001b[0m\u001b[0;34m'--'\u001b[0m\u001b[0;34m,\u001b[0m\u001b[0mfile\u001b[0m\u001b[0;34m)\u001b[0m\u001b[0;34m\u001b[0m\u001b[0;34m\u001b[0m\u001b[0m\n\u001b[1;32m     14\u001b[0m \u001b[0;34m\u001b[0m\u001b[0m\n",
            "\u001b[0;31mIndexError\u001b[0m: list index out of range"
          ]
        }
      ]
    },
    {
      "cell_type": "code",
      "source": [
        "label_num = 5\n",
        "count=1\n",
        "pul_seq='flair'\n",
        "Pred_x = create_data_onesubject_val('/content/MICCAI_BraTS2020_TrainingData/', '**/*{}.nii'.format(pul_seq), count ,label=False)\n",
        "pul_seq = 't2'\n",
        "T2 = create_data_onesubject_val('/content/MICCAI_BraTS2020_TrainingData/', '**/*{}.nii'.format(pul_seq), count, label=False)\n",
        "Pred_y = create_data_onesubject_val('/content/MICCAI_BraTS2020_TrainingData/', '**/*seg.nii', count, label=True)"
      ],
      "metadata": {
        "colab": {
          "base_uri": "https://localhost:8080/"
        },
        "id": "MVFYbP3TLSwc",
        "outputId": "59ad3313-833b-41e1-fc85-5788d86a0d2f"
      },
      "execution_count": null,
      "outputs": [
        {
          "output_type": "stream",
          "name": "stdout",
          "text": [
            "1\n",
            "Processing--- **/*flair.nii -- /content/MICCAI_BraTS2020_TrainingData/BraTS20_Training_042/BraTS20_Training_042_flair.nii\n",
            "1\n",
            "Processing--- **/*t2.nii -- /content/MICCAI_BraTS2020_TrainingData/BraTS20_Training_042/BraTS20_Training_042_t2.nii\n",
            "1\n",
            "Processing--- **/*seg.nii -- /content/MICCAI_BraTS2020_TrainingData/BraTS20_Training_042/BraTS20_Training_042_seg.nii\n"
          ]
        }
      ]
    },
    {
      "cell_type": "code",
      "metadata": {
        "id": "X2uUOjtKfr0w"
      },
      "source": [
        "#using Flair and T2 as input for full tumor segmentation\n",
        "#input_shape=(1,240,240,1)\n",
        "x = np.zeros((1,1,240,240),np.float32)\n",
        "x[:,:,:,:] = Pred_x[89:90,:,:,:]   #choosing 90th slice as example\n",
        "#x[:,1:,:,:] = T2[89:90,:,:,:]\n",
        "#x_res=np.reshape(x,[1,input_shape[1],input_shape[2],input_shape[3]])\n",
        "#input_shape = [None, 360, 480, 3]\n",
        "#output_shape = [None, 352, 480, 20]\n",
        "#img = cv2.imread('test4.jpg')\n",
        "#input_image = img\n",
        "#img = cv2.resize(img, (input_shape[2], input_shape[1]))\n",
        "#img = np.reshape(img, [1, input_shape[1], input_shape[2], input_shape[3]])\n"
      ],
      "execution_count": null,
      "outputs": []
    },
    {
      "cell_type": "code",
      "metadata": {
        "id": "ikV0vhkPfr5_"
      },
      "source": [
        "pred_full = model.predict(x)"
      ],
      "execution_count": null,
      "outputs": []
    },
    {
      "cell_type": "code",
      "source": [
        "pred_full.shape"
      ],
      "metadata": {
        "colab": {
          "base_uri": "https://localhost:8080/"
        },
        "id": "f5iQGCLV9pir",
        "outputId": "d2ac2fb1-55a5-41a8-a614-8d1a70264d71"
      },
      "execution_count": null,
      "outputs": [
        {
          "output_type": "execute_result",
          "data": {
            "text/plain": [
              "(1, 1, 240, 240)"
            ]
          },
          "metadata": {},
          "execution_count": 73
        }
      ]
    },
    {
      "cell_type": "code",
      "source": [
        "y_true=Pred_y[89:90,:,:,:]"
      ],
      "metadata": {
        "id": "3UekdmmJ9-fq"
      },
      "execution_count": null,
      "outputs": []
    },
    {
      "cell_type": "code",
      "source": [
        "y_true.shape"
      ],
      "metadata": {
        "colab": {
          "base_uri": "https://localhost:8080/"
        },
        "id": "STHmqbCZ9tJi",
        "outputId": "298333de-0a03-4224-dd9f-5783fa59b157"
      },
      "execution_count": null,
      "outputs": [
        {
          "output_type": "execute_result",
          "data": {
            "text/plain": [
              "(1, 1, 240, 240)"
            ]
          },
          "metadata": {},
          "execution_count": 28
        }
      ]
    },
    {
      "cell_type": "code",
      "source": [
        "loss=dice_coef_loss(y_true,pred_full)\n",
        "diec=dice_coef(y_true,pred_full)"
      ],
      "metadata": {
        "id": "Bs7QvwY6z5Lg"
      },
      "execution_count": null,
      "outputs": []
    },
    {
      "cell_type": "code",
      "source": [
        "print('Потери ',loss,' diec coef ',diec)"
      ],
      "metadata": {
        "colab": {
          "base_uri": "https://localhost:8080/"
        },
        "id": "sF1gY-_v0ZfJ",
        "outputId": "acab449c-2f78-4682-bb47-ce041faf060d"
      },
      "execution_count": null,
      "outputs": [
        {
          "output_type": "stream",
          "name": "stdout",
          "text": [
            "Потери  tf.Tensor(0.9408562, shape=(), dtype=float32)  diec coef  tf.Tensor(0.059143774, shape=(), dtype=float32)\n"
          ]
        }
      ]
    },
    {
      "cell_type": "code",
      "metadata": {
        "id": "2iJ9whpFuAIM",
        "colab": {
          "base_uri": "https://localhost:8080/",
          "height": 229
        },
        "outputId": "91a507c5-2984-4adf-ccc1-72ae6483fdce"
      },
      "source": [
        ""
      ],
      "execution_count": null,
      "outputs": [
        {
          "output_type": "display_data",
          "data": {
            "image/png": "[encoded data removed]",
            "text/plain": [
              "<Figure size 1080x720 with 4 Axes>"
            ]
          },
          "metadata": {
            "needs_background": "light"
          }
        }
      ]
    },
    {
      "cell_type": "code",
      "metadata": {
        "id": "oXdAJRc0uALM"
      },
      "source": [
        ""
      ],
      "execution_count": null,
      "outputs": []
    }
  ]
}